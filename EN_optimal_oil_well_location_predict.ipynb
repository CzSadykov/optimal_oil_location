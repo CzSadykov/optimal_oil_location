{
  "cells": [
    {
      "cell_type": "markdown",
      "metadata": {
        "id": "view-in-github",
        "colab_type": "text"
      },
      "source": [
        "<a href=\"https://colab.research.google.com/github/CzSadykov/optimal_oil_location/blob/main/EN_optimal_oil_well_location_predict.ipynb\" target=\"_parent\"><img src=\"https://colab.research.google.com/assets/colab-badge.svg\" alt=\"Open In Colab\"/></a>"
      ]
    },
    {
      "cell_type": "markdown",
      "metadata": {
        "id": "mh2_4DwdfNoo"
      },
      "source": [
        "# Predicting an optimal oil well location"
      ]
    },
    {
      "cell_type": "markdown",
      "metadata": {
        "id": "8V_2ukQUfNoo"
      },
      "source": [
        "**Problem situation**: On assignment for a fictitious mining company we help to decide where to drill a new oil well.\n",
        "\n",
        "**Goal**: to determine the most profitable region for the development of oil wells.\n",
        "\n",
        "**Tasks**:\n",
        "\n",
        "1. Build a machine learning model that will help determine the region where mining will bring the most profit.\n",
        "2. Analyze possible profits and risks using the *Bootstrap* technique\n",
        "\n",
        "**Data**:\n",
        "\n",
        "The data is taken from the exploration of three regions, each dataset contains 100,000 observations.\n",
        "List of variables:\n",
        "\n",
        "* ```id``` — unique identifier of the well;\n",
        "* ```f0, f1, f2``` - well characteristics;\n",
        "* **```product```** — volume of reserves in the well (in thousands of barrels). That's our target variable."
      ]
    },
    {
      "cell_type": "markdown",
      "metadata": {
        "id": "0BYBEHhzfNop"
      },
      "source": [
        "## Importing libraries"
      ]
    },
    {
      "cell_type": "code",
      "execution_count": 4,
      "metadata": {
        "id": "-cE0GNTDfNor"
      },
      "outputs": [],
      "source": [
        "import pandas as pd\n",
        "import numpy as np\n",
        "import matplotlib.pyplot as plt\n",
        "import seaborn as sns\n",
        "import re\n",
        "\n",
        "from sklearn.linear_model import LinearRegression\n",
        "from sklearn.tree import DecisionTreeRegressor\n",
        "from sklearn.ensemble import RandomForestRegressor\n",
        "from sklearn.model_selection import train_test_split\n",
        "from sklearn.preprocessing import StandardScaler, OneHotEncoder\n",
        "from sklearn.utils import shuffle\n",
        "from sklearn.dummy import DummyClassifier\n",
        "from numpy.random import randint\n",
        "\n",
        "from sklearn.metrics import (\n",
        "    mean_squared_error,\n",
        "    r2_score,\n",
        "    mean_absolute_error\n",
        ")"
      ]
    },
    {
      "cell_type": "markdown",
      "metadata": {
        "id": "Q7di2hssfNot"
      },
      "source": [
        "## Data loading and preprocessing"
      ]
    },
    {
      "cell_type": "markdown",
      "metadata": {
        "id": "X8l0HC6hfNot"
      },
      "source": [
        "Let's load the data and evaluate it for gaps and data types."
      ]
    },
    {
      "cell_type": "code",
      "execution_count": 5,
      "metadata": {
        "id": "A_CDTRARfNot"
      },
      "outputs": [],
      "source": [
        "df_1 = pd.read_csv('https://code.s3.yandex.net/datasets/geo_data_0.csv')\n",
        "df_2 = pd.read_csv('https://code.s3.yandex.net/datasets/geo_data_1.csv')\n",
        "df_3 = pd.read_csv('https://code.s3.yandex.net/datasets/geo_data_2.csv')"
      ]
    },
    {
      "cell_type": "code",
      "execution_count": 6,
      "metadata": {
        "id": "22e5zN2pfNot",
        "outputId": "0b387681-962d-44ac-f25d-37b263a2f5db",
        "colab": {
          "base_uri": "https://localhost:8080/"
        }
      },
      "outputs": [
        {
          "output_type": "stream",
          "name": "stdout",
          "text": [
            "<class 'pandas.core.frame.DataFrame'>\n",
            "RangeIndex: 100000 entries, 0 to 99999\n",
            "Data columns (total 5 columns):\n",
            " #   Column   Non-Null Count   Dtype  \n",
            "---  ------   --------------   -----  \n",
            " 0   id       100000 non-null  object \n",
            " 1   f0       100000 non-null  float64\n",
            " 2   f1       100000 non-null  float64\n",
            " 3   f2       100000 non-null  float64\n",
            " 4   product  100000 non-null  float64\n",
            "dtypes: float64(4), object(1)\n",
            "memory usage: 3.8+ MB\n",
            "None \n",
            "\n",
            "<class 'pandas.core.frame.DataFrame'>\n",
            "RangeIndex: 100000 entries, 0 to 99999\n",
            "Data columns (total 5 columns):\n",
            " #   Column   Non-Null Count   Dtype  \n",
            "---  ------   --------------   -----  \n",
            " 0   id       100000 non-null  object \n",
            " 1   f0       100000 non-null  float64\n",
            " 2   f1       100000 non-null  float64\n",
            " 3   f2       100000 non-null  float64\n",
            " 4   product  100000 non-null  float64\n",
            "dtypes: float64(4), object(1)\n",
            "memory usage: 3.8+ MB\n",
            "None \n",
            "\n",
            "<class 'pandas.core.frame.DataFrame'>\n",
            "RangeIndex: 100000 entries, 0 to 99999\n",
            "Data columns (total 5 columns):\n",
            " #   Column   Non-Null Count   Dtype  \n",
            "---  ------   --------------   -----  \n",
            " 0   id       100000 non-null  object \n",
            " 1   f0       100000 non-null  float64\n",
            " 2   f1       100000 non-null  float64\n",
            " 3   f2       100000 non-null  float64\n",
            " 4   product  100000 non-null  float64\n",
            "dtypes: float64(4), object(1)\n",
            "memory usage: 3.8+ MB\n",
            "None\n"
          ]
        }
      ],
      "source": [
        "print(df_1.info(), '\\n')\n",
        "print(df_2.info(), '\\n')\n",
        "print(df_3.info())"
      ]
    },
    {
      "cell_type": "markdown",
      "metadata": {
        "id": "uKsV2xhdfNou"
      },
      "source": [
        "There are no gaps, but there is an explicit nominal variable ```id```, which will not be useful in our study.\n",
        "\n",
        "We will remove it. Later."
      ]
    },
    {
      "cell_type": "code",
      "execution_count": 7,
      "metadata": {
        "id": "WoCR0y-VfNou",
        "outputId": "6794432d-7fc0-459e-fc54-9ffe127af117",
        "colab": {
          "base_uri": "https://localhost:8080/",
          "height": 206
        }
      },
      "outputs": [
        {
          "output_type": "execute_result",
          "data": {
            "text/plain": [
              "      id         f0         f1        f2     product\n",
              "0  kBEdx -15.001348  -8.276000 -0.005876    3.179103\n",
              "1  62mP7  14.272088  -3.475083  0.999183   26.953261\n",
              "2  vyE1P   6.263187  -5.948386  5.001160  134.766305\n",
              "3  KcrkZ -13.081196 -11.506057  4.999415  137.945408\n",
              "4  AHL4O  12.702195  -8.147433  5.004363  134.766305"
            ],
            "text/html": [
              "\n",
              "\n",
              "  <div id=\"df-72403f84-d572-4052-a953-7594b8a3c5d7\">\n",
              "    <div class=\"colab-df-container\">\n",
              "      <div>\n",
              "<style scoped>\n",
              "    .dataframe tbody tr th:only-of-type {\n",
              "        vertical-align: middle;\n",
              "    }\n",
              "\n",
              "    .dataframe tbody tr th {\n",
              "        vertical-align: top;\n",
              "    }\n",
              "\n",
              "    .dataframe thead th {\n",
              "        text-align: right;\n",
              "    }\n",
              "</style>\n",
              "<table border=\"1\" class=\"dataframe\">\n",
              "  <thead>\n",
              "    <tr style=\"text-align: right;\">\n",
              "      <th></th>\n",
              "      <th>id</th>\n",
              "      <th>f0</th>\n",
              "      <th>f1</th>\n",
              "      <th>f2</th>\n",
              "      <th>product</th>\n",
              "    </tr>\n",
              "  </thead>\n",
              "  <tbody>\n",
              "    <tr>\n",
              "      <th>0</th>\n",
              "      <td>kBEdx</td>\n",
              "      <td>-15.001348</td>\n",
              "      <td>-8.276000</td>\n",
              "      <td>-0.005876</td>\n",
              "      <td>3.179103</td>\n",
              "    </tr>\n",
              "    <tr>\n",
              "      <th>1</th>\n",
              "      <td>62mP7</td>\n",
              "      <td>14.272088</td>\n",
              "      <td>-3.475083</td>\n",
              "      <td>0.999183</td>\n",
              "      <td>26.953261</td>\n",
              "    </tr>\n",
              "    <tr>\n",
              "      <th>2</th>\n",
              "      <td>vyE1P</td>\n",
              "      <td>6.263187</td>\n",
              "      <td>-5.948386</td>\n",
              "      <td>5.001160</td>\n",
              "      <td>134.766305</td>\n",
              "    </tr>\n",
              "    <tr>\n",
              "      <th>3</th>\n",
              "      <td>KcrkZ</td>\n",
              "      <td>-13.081196</td>\n",
              "      <td>-11.506057</td>\n",
              "      <td>4.999415</td>\n",
              "      <td>137.945408</td>\n",
              "    </tr>\n",
              "    <tr>\n",
              "      <th>4</th>\n",
              "      <td>AHL4O</td>\n",
              "      <td>12.702195</td>\n",
              "      <td>-8.147433</td>\n",
              "      <td>5.004363</td>\n",
              "      <td>134.766305</td>\n",
              "    </tr>\n",
              "  </tbody>\n",
              "</table>\n",
              "</div>\n",
              "      <button class=\"colab-df-convert\" onclick=\"convertToInteractive('df-72403f84-d572-4052-a953-7594b8a3c5d7')\"\n",
              "              title=\"Convert this dataframe to an interactive table.\"\n",
              "              style=\"display:none;\">\n",
              "\n",
              "  <svg xmlns=\"http://www.w3.org/2000/svg\" height=\"24px\"viewBox=\"0 0 24 24\"\n",
              "       width=\"24px\">\n",
              "    <path d=\"M0 0h24v24H0V0z\" fill=\"none\"/>\n",
              "    <path d=\"M18.56 5.44l.94 2.06.94-2.06 2.06-.94-2.06-.94-.94-2.06-.94 2.06-2.06.94zm-11 1L8.5 8.5l.94-2.06 2.06-.94-2.06-.94L8.5 2.5l-.94 2.06-2.06.94zm10 10l.94 2.06.94-2.06 2.06-.94-2.06-.94-.94-2.06-.94 2.06-2.06.94z\"/><path d=\"M17.41 7.96l-1.37-1.37c-.4-.4-.92-.59-1.43-.59-.52 0-1.04.2-1.43.59L10.3 9.45l-7.72 7.72c-.78.78-.78 2.05 0 2.83L4 21.41c.39.39.9.59 1.41.59.51 0 1.02-.2 1.41-.59l7.78-7.78 2.81-2.81c.8-.78.8-2.07 0-2.86zM5.41 20L4 18.59l7.72-7.72 1.47 1.35L5.41 20z\"/>\n",
              "  </svg>\n",
              "      </button>\n",
              "\n",
              "\n",
              "\n",
              "    <div id=\"df-ddcd7d54-0e05-42ee-814a-6ac5ed2e8bb8\">\n",
              "      <button class=\"colab-df-quickchart\" onclick=\"quickchart('df-ddcd7d54-0e05-42ee-814a-6ac5ed2e8bb8')\"\n",
              "              title=\"Suggest charts.\"\n",
              "              style=\"display:none;\">\n",
              "\n",
              "<svg xmlns=\"http://www.w3.org/2000/svg\" height=\"24px\"viewBox=\"0 0 24 24\"\n",
              "     width=\"24px\">\n",
              "    <g>\n",
              "        <path d=\"M19 3H5c-1.1 0-2 .9-2 2v14c0 1.1.9 2 2 2h14c1.1 0 2-.9 2-2V5c0-1.1-.9-2-2-2zM9 17H7v-7h2v7zm4 0h-2V7h2v10zm4 0h-2v-4h2v4z\"/>\n",
              "    </g>\n",
              "</svg>\n",
              "      </button>\n",
              "    </div>\n",
              "\n",
              "<style>\n",
              "  .colab-df-quickchart {\n",
              "    background-color: #E8F0FE;\n",
              "    border: none;\n",
              "    border-radius: 50%;\n",
              "    cursor: pointer;\n",
              "    display: none;\n",
              "    fill: #1967D2;\n",
              "    height: 32px;\n",
              "    padding: 0 0 0 0;\n",
              "    width: 32px;\n",
              "  }\n",
              "\n",
              "  .colab-df-quickchart:hover {\n",
              "    background-color: #E2EBFA;\n",
              "    box-shadow: 0px 1px 2px rgba(60, 64, 67, 0.3), 0px 1px 3px 1px rgba(60, 64, 67, 0.15);\n",
              "    fill: #174EA6;\n",
              "  }\n",
              "\n",
              "  [theme=dark] .colab-df-quickchart {\n",
              "    background-color: #3B4455;\n",
              "    fill: #D2E3FC;\n",
              "  }\n",
              "\n",
              "  [theme=dark] .colab-df-quickchart:hover {\n",
              "    background-color: #434B5C;\n",
              "    box-shadow: 0px 1px 3px 1px rgba(0, 0, 0, 0.15);\n",
              "    filter: drop-shadow(0px 1px 2px rgba(0, 0, 0, 0.3));\n",
              "    fill: #FFFFFF;\n",
              "  }\n",
              "</style>\n",
              "\n",
              "    <script>\n",
              "      async function quickchart(key) {\n",
              "        const containerElement = document.querySelector('#' + key);\n",
              "        const charts = await google.colab.kernel.invokeFunction(\n",
              "            'suggestCharts', [key], {});\n",
              "      }\n",
              "    </script>\n",
              "\n",
              "      <script>\n",
              "\n",
              "function displayQuickchartButton(domScope) {\n",
              "  let quickchartButtonEl =\n",
              "    domScope.querySelector('#df-ddcd7d54-0e05-42ee-814a-6ac5ed2e8bb8 button.colab-df-quickchart');\n",
              "  quickchartButtonEl.style.display =\n",
              "    google.colab.kernel.accessAllowed ? 'block' : 'none';\n",
              "}\n",
              "\n",
              "        displayQuickchartButton(document);\n",
              "      </script>\n",
              "      <style>\n",
              "    .colab-df-container {\n",
              "      display:flex;\n",
              "      flex-wrap:wrap;\n",
              "      gap: 12px;\n",
              "    }\n",
              "\n",
              "    .colab-df-convert {\n",
              "      background-color: #E8F0FE;\n",
              "      border: none;\n",
              "      border-radius: 50%;\n",
              "      cursor: pointer;\n",
              "      display: none;\n",
              "      fill: #1967D2;\n",
              "      height: 32px;\n",
              "      padding: 0 0 0 0;\n",
              "      width: 32px;\n",
              "    }\n",
              "\n",
              "    .colab-df-convert:hover {\n",
              "      background-color: #E2EBFA;\n",
              "      box-shadow: 0px 1px 2px rgba(60, 64, 67, 0.3), 0px 1px 3px 1px rgba(60, 64, 67, 0.15);\n",
              "      fill: #174EA6;\n",
              "    }\n",
              "\n",
              "    [theme=dark] .colab-df-convert {\n",
              "      background-color: #3B4455;\n",
              "      fill: #D2E3FC;\n",
              "    }\n",
              "\n",
              "    [theme=dark] .colab-df-convert:hover {\n",
              "      background-color: #434B5C;\n",
              "      box-shadow: 0px 1px 3px 1px rgba(0, 0, 0, 0.15);\n",
              "      filter: drop-shadow(0px 1px 2px rgba(0, 0, 0, 0.3));\n",
              "      fill: #FFFFFF;\n",
              "    }\n",
              "  </style>\n",
              "\n",
              "      <script>\n",
              "        const buttonEl =\n",
              "          document.querySelector('#df-72403f84-d572-4052-a953-7594b8a3c5d7 button.colab-df-convert');\n",
              "        buttonEl.style.display =\n",
              "          google.colab.kernel.accessAllowed ? 'block' : 'none';\n",
              "\n",
              "        async function convertToInteractive(key) {\n",
              "          const element = document.querySelector('#df-72403f84-d572-4052-a953-7594b8a3c5d7');\n",
              "          const dataTable =\n",
              "            await google.colab.kernel.invokeFunction('convertToInteractive',\n",
              "                                                     [key], {});\n",
              "          if (!dataTable) return;\n",
              "\n",
              "          const docLinkHtml = 'Like what you see? Visit the ' +\n",
              "            '<a target=\"_blank\" href=https://colab.research.google.com/notebooks/data_table.ipynb>data table notebook</a>'\n",
              "            + ' to learn more about interactive tables.';\n",
              "          element.innerHTML = '';\n",
              "          dataTable['output_type'] = 'display_data';\n",
              "          await google.colab.output.renderOutput(dataTable, element);\n",
              "          const docLink = document.createElement('div');\n",
              "          docLink.innerHTML = docLinkHtml;\n",
              "          element.appendChild(docLink);\n",
              "        }\n",
              "      </script>\n",
              "    </div>\n",
              "  </div>\n"
            ]
          },
          "metadata": {},
          "execution_count": 7
        }
      ],
      "source": [
        "df_2.head()"
      ]
    },
    {
      "cell_type": "markdown",
      "metadata": {
        "id": "r5hxzwmpfNov"
      },
      "source": [
        "Let's check the number of duplicates for each region."
      ]
    },
    {
      "cell_type": "code",
      "execution_count": 8,
      "metadata": {
        "id": "QWM0zkfBfNov",
        "outputId": "d214be39-2008-4a55-c1b1-5e5bbc0e439f",
        "colab": {
          "base_uri": "https://localhost:8080/"
        }
      },
      "outputs": [
        {
          "output_type": "stream",
          "name": "stdout",
          "text": [
            "0\n",
            "0\n",
            "0\n"
          ]
        }
      ],
      "source": [
        "print(df_1.duplicated().sum())\n",
        "print(df_2.duplicated().sum())\n",
        "print(df_3.duplicated().sum())"
      ]
    },
    {
      "cell_type": "markdown",
      "metadata": {
        "id": "9Y_y8jxrfNov"
      },
      "source": [
        "They don't, great. Are the well ids duplicated, or each one is unique?"
      ]
    },
    {
      "cell_type": "code",
      "execution_count": 9,
      "metadata": {
        "id": "mFzQHLmefNov",
        "outputId": "5e6c0dfc-b008-43dc-dcd5-16d268fd0a16",
        "colab": {
          "base_uri": "https://localhost:8080/"
        }
      },
      "outputs": [
        {
          "output_type": "stream",
          "name": "stdout",
          "text": [
            "10\n",
            "4\n",
            "4\n"
          ]
        }
      ],
      "source": [
        "print(df_1['id'].duplicated().sum())\n",
        "print(df_2['id'].duplicated().sum())\n",
        "print(df_3['id'].duplicated().sum())"
      ]
    },
    {
      "cell_type": "markdown",
      "metadata": {
        "id": "v-N590dlfNov"
      },
      "source": [
        "Yes, they are duplicated. We'll keep in mind."
      ]
    },
    {
      "cell_type": "markdown",
      "metadata": {
        "id": "5r0MXTptfNov"
      },
      "source": [
        "Now we make histograms of features for each region in order to evaluate distributions."
      ]
    },
    {
      "cell_type": "code",
      "execution_count": 10,
      "metadata": {
        "id": "kEVkvu6afNow",
        "outputId": "12e0f51b-8643-429e-f8f1-de65c8d7a201",
        "colab": {
          "base_uri": "https://localhost:8080/",
          "height": 1000
        }
      },
      "outputs": [
        {
          "output_type": "display_data",
          "data": {
            "text/plain": [
              "<Figure size 1000x1000 with 9 Axes>"
            ],
            "image/png": "[encoded data removed]"
          },
          "metadata": {}
        }
      ],
      "source": [
        "fig, ax = plt.subplots(3,3, figsize=(10,10))\n",
        "\n",
        "ax[0,0].hist(df_1['f0'], bins=100, alpha=0.7, color='orange');\n",
        "ax[0,0].set_title('Distribution of f0, first region');\n",
        "ax[0,1].hist(df_2['f0'], bins=100, alpha=0.7, color='orange');\n",
        "ax[0,1].set_title('Distribution of f0, second region');\n",
        "ax[0,2].hist(df_3['f0'], bins=100, alpha=0.7, color='orange');\n",
        "ax[0,2].set_title('Distribution of f0, third region');\n",
        "\n",
        "ax[1,0].hist(df_1['f1'], bins=100, alpha=0.7, color='green');\n",
        "ax[1,0].set_title('Distribution of f1, first region');\n",
        "ax[1,1].hist(df_2['f1'], bins=100, alpha=0.7, color='green');\n",
        "ax[1,1].set_title('Distribution of f1, second region');\n",
        "ax[1,2].hist(df_3['f1'], bins=100, alpha=0.7, color='green');\n",
        "ax[1,2].set_title('Distribution of f1, third region');\n",
        "\n",
        "ax[2,0].hist(df_1['f2'], bins=100, alpha=0.7, color='red');\n",
        "ax[2,0].set_title('Distribution of f2, first region');\n",
        "ax[2,1].hist(df_2['f2'], bins=100, alpha=0.7, color='red');\n",
        "ax[2,1].set_title('Distribution of f2, second region');\n",
        "ax[2,2].hist(df_3['f2'], bins=100, alpha=0.7, color='red');\n",
        "ax[2,2].set_title('Distribution of f2, third region');\n",
        "\n",
        "plt.tight_layout()\n",
        "plt.show()"
      ]
    },
    {
      "cell_type": "markdown",
      "metadata": {
        "id": "45lEWqeffNow"
      },
      "source": [
        "In most cases, the distribution is normal, but there are some deviations from the norm. The ```f2``` feature is the most striking in the second region. Let's look at it closer."
      ]
    },
    {
      "cell_type": "code",
      "execution_count": 11,
      "metadata": {
        "id": "bdxHrYrefNow",
        "outputId": "d0cc7ec7-fbfc-433d-9622-8fc8f71393a8",
        "colab": {
          "base_uri": "https://localhost:8080/",
          "height": 452
        }
      },
      "outputs": [
        {
          "output_type": "display_data",
          "data": {
            "text/plain": [
              "<Figure size 640x480 with 1 Axes>"
            ],
            "image/png": "[encoded data removed]"
          },
          "metadata": {}
        }
      ],
      "source": [
        "hist_2_2 = df_2['f2'].hist(bins=10, color='red');\n",
        "hist_2_2.set_title('f2 distribution, second region');"
      ]
    },
    {
      "cell_type": "markdown",
      "metadata": {
        "id": "-XvigZmUfNow"
      },
      "source": [
        "Not knowing the specifics of the data contained in it, we cannot put forward sufficiently clear assumptions.\n",
        "\n",
        "Let's now look at the numerical characteristics of the data."
      ]
    },
    {
      "cell_type": "code",
      "execution_count": 12,
      "metadata": {
        "scrolled": true,
        "id": "D1vIUlEsfNox",
        "outputId": "d56631d8-4ccd-4eb5-cd43-88d444375325",
        "colab": {
          "base_uri": "https://localhost:8080/",
          "height": 867
        }
      },
      "outputs": [
        {
          "output_type": "display_data",
          "data": {
            "text/plain": [
              "                  f0             f1             f2        product\n",
              "count  100000.000000  100000.000000  100000.000000  100000.000000\n",
              "mean        0.500419       0.250143       2.502647      92.500000\n",
              "std         0.871832       0.504433       3.248248      44.288691\n",
              "min        -1.408605      -0.848218     -12.088328       0.000000\n",
              "25%        -0.072580      -0.200881       0.287748      56.497507\n",
              "50%         0.502360       0.250252       2.515969      91.849972\n",
              "75%         1.073581       0.700646       4.715088     128.564089\n",
              "max         2.362331       1.343769      16.003790     185.364347"
            ],
            "text/html": [
              "\n",
              "\n",
              "  <div id=\"df-defa71af-f521-4733-b3df-d37ae1d1e026\">\n",
              "    <div class=\"colab-df-container\">\n",
              "      <div>\n",
              "<style scoped>\n",
              "    .dataframe tbody tr th:only-of-type {\n",
              "        vertical-align: middle;\n",
              "    }\n",
              "\n",
              "    .dataframe tbody tr th {\n",
              "        vertical-align: top;\n",
              "    }\n",
              "\n",
              "    .dataframe thead th {\n",
              "        text-align: right;\n",
              "    }\n",
              "</style>\n",
              "<table border=\"1\" class=\"dataframe\">\n",
              "  <thead>\n",
              "    <tr style=\"text-align: right;\">\n",
              "      <th></th>\n",
              "      <th>f0</th>\n",
              "      <th>f1</th>\n",
              "      <th>f2</th>\n",
              "      <th>product</th>\n",
              "    </tr>\n",
              "  </thead>\n",
              "  <tbody>\n",
              "    <tr>\n",
              "      <th>count</th>\n",
              "      <td>100000.000000</td>\n",
              "      <td>100000.000000</td>\n",
              "      <td>100000.000000</td>\n",
              "      <td>100000.000000</td>\n",
              "    </tr>\n",
              "    <tr>\n",
              "      <th>mean</th>\n",
              "      <td>0.500419</td>\n",
              "      <td>0.250143</td>\n",
              "      <td>2.502647</td>\n",
              "      <td>92.500000</td>\n",
              "    </tr>\n",
              "    <tr>\n",
              "      <th>std</th>\n",
              "      <td>0.871832</td>\n",
              "      <td>0.504433</td>\n",
              "      <td>3.248248</td>\n",
              "      <td>44.288691</td>\n",
              "    </tr>\n",
              "    <tr>\n",
              "      <th>min</th>\n",
              "      <td>-1.408605</td>\n",
              "      <td>-0.848218</td>\n",
              "      <td>-12.088328</td>\n",
              "      <td>0.000000</td>\n",
              "    </tr>\n",
              "    <tr>\n",
              "      <th>25%</th>\n",
              "      <td>-0.072580</td>\n",
              "      <td>-0.200881</td>\n",
              "      <td>0.287748</td>\n",
              "      <td>56.497507</td>\n",
              "    </tr>\n",
              "    <tr>\n",
              "      <th>50%</th>\n",
              "      <td>0.502360</td>\n",
              "      <td>0.250252</td>\n",
              "      <td>2.515969</td>\n",
              "      <td>91.849972</td>\n",
              "    </tr>\n",
              "    <tr>\n",
              "      <th>75%</th>\n",
              "      <td>1.073581</td>\n",
              "      <td>0.700646</td>\n",
              "      <td>4.715088</td>\n",
              "      <td>128.564089</td>\n",
              "    </tr>\n",
              "    <tr>\n",
              "      <th>max</th>\n",
              "      <td>2.362331</td>\n",
              "      <td>1.343769</td>\n",
              "      <td>16.003790</td>\n",
              "      <td>185.364347</td>\n",
              "    </tr>\n",
              "  </tbody>\n",
              "</table>\n",
              "</div>\n",
              "      <button class=\"colab-df-convert\" onclick=\"convertToInteractive('df-defa71af-f521-4733-b3df-d37ae1d1e026')\"\n",
              "              title=\"Convert this dataframe to an interactive table.\"\n",
              "              style=\"display:none;\">\n",
              "\n",
              "  <svg xmlns=\"http://www.w3.org/2000/svg\" height=\"24px\"viewBox=\"0 0 24 24\"\n",
              "       width=\"24px\">\n",
              "    <path d=\"M0 0h24v24H0V0z\" fill=\"none\"/>\n",
              "    <path d=\"M18.56 5.44l.94 2.06.94-2.06 2.06-.94-2.06-.94-.94-2.06-.94 2.06-2.06.94zm-11 1L8.5 8.5l.94-2.06 2.06-.94-2.06-.94L8.5 2.5l-.94 2.06-2.06.94zm10 10l.94 2.06.94-2.06 2.06-.94-2.06-.94-.94-2.06-.94 2.06-2.06.94z\"/><path d=\"M17.41 7.96l-1.37-1.37c-.4-.4-.92-.59-1.43-.59-.52 0-1.04.2-1.43.59L10.3 9.45l-7.72 7.72c-.78.78-.78 2.05 0 2.83L4 21.41c.39.39.9.59 1.41.59.51 0 1.02-.2 1.41-.59l7.78-7.78 2.81-2.81c.8-.78.8-2.07 0-2.86zM5.41 20L4 18.59l7.72-7.72 1.47 1.35L5.41 20z\"/>\n",
              "  </svg>\n",
              "      </button>\n",
              "\n",
              "\n",
              "\n",
              "    <div id=\"df-42220289-938c-44cb-a377-15e40c6151e7\">\n",
              "      <button class=\"colab-df-quickchart\" onclick=\"quickchart('df-42220289-938c-44cb-a377-15e40c6151e7')\"\n",
              "              title=\"Suggest charts.\"\n",
              "              style=\"display:none;\">\n",
              "\n",
              "<svg xmlns=\"http://www.w3.org/2000/svg\" height=\"24px\"viewBox=\"0 0 24 24\"\n",
              "     width=\"24px\">\n",
              "    <g>\n",
              "        <path d=\"M19 3H5c-1.1 0-2 .9-2 2v14c0 1.1.9 2 2 2h14c1.1 0 2-.9 2-2V5c0-1.1-.9-2-2-2zM9 17H7v-7h2v7zm4 0h-2V7h2v10zm4 0h-2v-4h2v4z\"/>\n",
              "    </g>\n",
              "</svg>\n",
              "      </button>\n",
              "    </div>\n",
              "\n",
              "<style>\n",
              "  .colab-df-quickchart {\n",
              "    background-color: #E8F0FE;\n",
              "    border: none;\n",
              "    border-radius: 50%;\n",
              "    cursor: pointer;\n",
              "    display: none;\n",
              "    fill: #1967D2;\n",
              "    height: 32px;\n",
              "    padding: 0 0 0 0;\n",
              "    width: 32px;\n",
              "  }\n",
              "\n",
              "  .colab-df-quickchart:hover {\n",
              "    background-color: #E2EBFA;\n",
              "    box-shadow: 0px 1px 2px rgba(60, 64, 67, 0.3), 0px 1px 3px 1px rgba(60, 64, 67, 0.15);\n",
              "    fill: #174EA6;\n",
              "  }\n",
              "\n",
              "  [theme=dark] .colab-df-quickchart {\n",
              "    background-color: #3B4455;\n",
              "    fill: #D2E3FC;\n",
              "  }\n",
              "\n",
              "  [theme=dark] .colab-df-quickchart:hover {\n",
              "    background-color: #434B5C;\n",
              "    box-shadow: 0px 1px 3px 1px rgba(0, 0, 0, 0.15);\n",
              "    filter: drop-shadow(0px 1px 2px rgba(0, 0, 0, 0.3));\n",
              "    fill: #FFFFFF;\n",
              "  }\n",
              "</style>\n",
              "\n",
              "    <script>\n",
              "      async function quickchart(key) {\n",
              "        const containerElement = document.querySelector('#' + key);\n",
              "        const charts = await google.colab.kernel.invokeFunction(\n",
              "            'suggestCharts', [key], {});\n",
              "      }\n",
              "    </script>\n",
              "\n",
              "      <script>\n",
              "\n",
              "function displayQuickchartButton(domScope) {\n",
              "  let quickchartButtonEl =\n",
              "    domScope.querySelector('#df-42220289-938c-44cb-a377-15e40c6151e7 button.colab-df-quickchart');\n",
              "  quickchartButtonEl.style.display =\n",
              "    google.colab.kernel.accessAllowed ? 'block' : 'none';\n",
              "}\n",
              "\n",
              "        displayQuickchartButton(document);\n",
              "      </script>\n",
              "      <style>\n",
              "    .colab-df-container {\n",
              "      display:flex;\n",
              "      flex-wrap:wrap;\n",
              "      gap: 12px;\n",
              "    }\n",
              "\n",
              "    .colab-df-convert {\n",
              "      background-color: #E8F0FE;\n",
              "      border: none;\n",
              "      border-radius: 50%;\n",
              "      cursor: pointer;\n",
              "      display: none;\n",
              "      fill: #1967D2;\n",
              "      height: 32px;\n",
              "      padding: 0 0 0 0;\n",
              "      width: 32px;\n",
              "    }\n",
              "\n",
              "    .colab-df-convert:hover {\n",
              "      background-color: #E2EBFA;\n",
              "      box-shadow: 0px 1px 2px rgba(60, 64, 67, 0.3), 0px 1px 3px 1px rgba(60, 64, 67, 0.15);\n",
              "      fill: #174EA6;\n",
              "    }\n",
              "\n",
              "    [theme=dark] .colab-df-convert {\n",
              "      background-color: #3B4455;\n",
              "      fill: #D2E3FC;\n",
              "    }\n",
              "\n",
              "    [theme=dark] .colab-df-convert:hover {\n",
              "      background-color: #434B5C;\n",
              "      box-shadow: 0px 1px 3px 1px rgba(0, 0, 0, 0.15);\n",
              "      filter: drop-shadow(0px 1px 2px rgba(0, 0, 0, 0.3));\n",
              "      fill: #FFFFFF;\n",
              "    }\n",
              "  </style>\n",
              "\n",
              "      <script>\n",
              "        const buttonEl =\n",
              "          document.querySelector('#df-defa71af-f521-4733-b3df-d37ae1d1e026 button.colab-df-convert');\n",
              "        buttonEl.style.display =\n",
              "          google.colab.kernel.accessAllowed ? 'block' : 'none';\n",
              "\n",
              "        async function convertToInteractive(key) {\n",
              "          const element = document.querySelector('#df-defa71af-f521-4733-b3df-d37ae1d1e026');\n",
              "          const dataTable =\n",
              "            await google.colab.kernel.invokeFunction('convertToInteractive',\n",
              "                                                     [key], {});\n",
              "          if (!dataTable) return;\n",
              "\n",
              "          const docLinkHtml = 'Like what you see? Visit the ' +\n",
              "            '<a target=\"_blank\" href=https://colab.research.google.com/notebooks/data_table.ipynb>data table notebook</a>'\n",
              "            + ' to learn more about interactive tables.';\n",
              "          element.innerHTML = '';\n",
              "          dataTable['output_type'] = 'display_data';\n",
              "          await google.colab.output.renderOutput(dataTable, element);\n",
              "          const docLink = document.createElement('div');\n",
              "          docLink.innerHTML = docLinkHtml;\n",
              "          element.appendChild(docLink);\n",
              "        }\n",
              "      </script>\n",
              "    </div>\n",
              "  </div>\n"
            ]
          },
          "metadata": {}
        },
        {
          "output_type": "display_data",
          "data": {
            "text/plain": [
              "                  f0             f1             f2        product\n",
              "count  100000.000000  100000.000000  100000.000000  100000.000000\n",
              "mean        1.141296      -4.796579       2.494541      68.825000\n",
              "std         8.965932       5.119872       1.703572      45.944423\n",
              "min       -31.609576     -26.358598      -0.018144       0.000000\n",
              "25%        -6.298551      -8.267985       1.000021      26.953261\n",
              "50%         1.153055      -4.813172       2.011479      57.085625\n",
              "75%         8.621015      -1.332816       3.999904     107.813044\n",
              "max        29.421755      18.734063       5.019721     137.945408"
            ],
            "text/html": [
              "\n",
              "\n",
              "  <div id=\"df-4c28f985-7130-4503-a26b-2e2043149715\">\n",
              "    <div class=\"colab-df-container\">\n",
              "      <div>\n",
              "<style scoped>\n",
              "    .dataframe tbody tr th:only-of-type {\n",
              "        vertical-align: middle;\n",
              "    }\n",
              "\n",
              "    .dataframe tbody tr th {\n",
              "        vertical-align: top;\n",
              "    }\n",
              "\n",
              "    .dataframe thead th {\n",
              "        text-align: right;\n",
              "    }\n",
              "</style>\n",
              "<table border=\"1\" class=\"dataframe\">\n",
              "  <thead>\n",
              "    <tr style=\"text-align: right;\">\n",
              "      <th></th>\n",
              "      <th>f0</th>\n",
              "      <th>f1</th>\n",
              "      <th>f2</th>\n",
              "      <th>product</th>\n",
              "    </tr>\n",
              "  </thead>\n",
              "  <tbody>\n",
              "    <tr>\n",
              "      <th>count</th>\n",
              "      <td>100000.000000</td>\n",
              "      <td>100000.000000</td>\n",
              "      <td>100000.000000</td>\n",
              "      <td>100000.000000</td>\n",
              "    </tr>\n",
              "    <tr>\n",
              "      <th>mean</th>\n",
              "      <td>1.141296</td>\n",
              "      <td>-4.796579</td>\n",
              "      <td>2.494541</td>\n",
              "      <td>68.825000</td>\n",
              "    </tr>\n",
              "    <tr>\n",
              "      <th>std</th>\n",
              "      <td>8.965932</td>\n",
              "      <td>5.119872</td>\n",
              "      <td>1.703572</td>\n",
              "      <td>45.944423</td>\n",
              "    </tr>\n",
              "    <tr>\n",
              "      <th>min</th>\n",
              "      <td>-31.609576</td>\n",
              "      <td>-26.358598</td>\n",
              "      <td>-0.018144</td>\n",
              "      <td>0.000000</td>\n",
              "    </tr>\n",
              "    <tr>\n",
              "      <th>25%</th>\n",
              "      <td>-6.298551</td>\n",
              "      <td>-8.267985</td>\n",
              "      <td>1.000021</td>\n",
              "      <td>26.953261</td>\n",
              "    </tr>\n",
              "    <tr>\n",
              "      <th>50%</th>\n",
              "      <td>1.153055</td>\n",
              "      <td>-4.813172</td>\n",
              "      <td>2.011479</td>\n",
              "      <td>57.085625</td>\n",
              "    </tr>\n",
              "    <tr>\n",
              "      <th>75%</th>\n",
              "      <td>8.621015</td>\n",
              "      <td>-1.332816</td>\n",
              "      <td>3.999904</td>\n",
              "      <td>107.813044</td>\n",
              "    </tr>\n",
              "    <tr>\n",
              "      <th>max</th>\n",
              "      <td>29.421755</td>\n",
              "      <td>18.734063</td>\n",
              "      <td>5.019721</td>\n",
              "      <td>137.945408</td>\n",
              "    </tr>\n",
              "  </tbody>\n",
              "</table>\n",
              "</div>\n",
              "      <button class=\"colab-df-convert\" onclick=\"convertToInteractive('df-4c28f985-7130-4503-a26b-2e2043149715')\"\n",
              "              title=\"Convert this dataframe to an interactive table.\"\n",
              "              style=\"display:none;\">\n",
              "\n",
              "  <svg xmlns=\"http://www.w3.org/2000/svg\" height=\"24px\"viewBox=\"0 0 24 24\"\n",
              "       width=\"24px\">\n",
              "    <path d=\"M0 0h24v24H0V0z\" fill=\"none\"/>\n",
              "    <path d=\"M18.56 5.44l.94 2.06.94-2.06 2.06-.94-2.06-.94-.94-2.06-.94 2.06-2.06.94zm-11 1L8.5 8.5l.94-2.06 2.06-.94-2.06-.94L8.5 2.5l-.94 2.06-2.06.94zm10 10l.94 2.06.94-2.06 2.06-.94-2.06-.94-.94-2.06-.94 2.06-2.06.94z\"/><path d=\"M17.41 7.96l-1.37-1.37c-.4-.4-.92-.59-1.43-.59-.52 0-1.04.2-1.43.59L10.3 9.45l-7.72 7.72c-.78.78-.78 2.05 0 2.83L4 21.41c.39.39.9.59 1.41.59.51 0 1.02-.2 1.41-.59l7.78-7.78 2.81-2.81c.8-.78.8-2.07 0-2.86zM5.41 20L4 18.59l7.72-7.72 1.47 1.35L5.41 20z\"/>\n",
              "  </svg>\n",
              "      </button>\n",
              "\n",
              "\n",
              "\n",
              "    <div id=\"df-d2c5b42a-c29b-4dc2-8339-3ae2081309e8\">\n",
              "      <button class=\"colab-df-quickchart\" onclick=\"quickchart('df-d2c5b42a-c29b-4dc2-8339-3ae2081309e8')\"\n",
              "              title=\"Suggest charts.\"\n",
              "              style=\"display:none;\">\n",
              "\n",
              "<svg xmlns=\"http://www.w3.org/2000/svg\" height=\"24px\"viewBox=\"0 0 24 24\"\n",
              "     width=\"24px\">\n",
              "    <g>\n",
              "        <path d=\"M19 3H5c-1.1 0-2 .9-2 2v14c0 1.1.9 2 2 2h14c1.1 0 2-.9 2-2V5c0-1.1-.9-2-2-2zM9 17H7v-7h2v7zm4 0h-2V7h2v10zm4 0h-2v-4h2v4z\"/>\n",
              "    </g>\n",
              "</svg>\n",
              "      </button>\n",
              "    </div>\n",
              "\n",
              "<style>\n",
              "  .colab-df-quickchart {\n",
              "    background-color: #E8F0FE;\n",
              "    border: none;\n",
              "    border-radius: 50%;\n",
              "    cursor: pointer;\n",
              "    display: none;\n",
              "    fill: #1967D2;\n",
              "    height: 32px;\n",
              "    padding: 0 0 0 0;\n",
              "    width: 32px;\n",
              "  }\n",
              "\n",
              "  .colab-df-quickchart:hover {\n",
              "    background-color: #E2EBFA;\n",
              "    box-shadow: 0px 1px 2px rgba(60, 64, 67, 0.3), 0px 1px 3px 1px rgba(60, 64, 67, 0.15);\n",
              "    fill: #174EA6;\n",
              "  }\n",
              "\n",
              "  [theme=dark] .colab-df-quickchart {\n",
              "    background-color: #3B4455;\n",
              "    fill: #D2E3FC;\n",
              "  }\n",
              "\n",
              "  [theme=dark] .colab-df-quickchart:hover {\n",
              "    background-color: #434B5C;\n",
              "    box-shadow: 0px 1px 3px 1px rgba(0, 0, 0, 0.15);\n",
              "    filter: drop-shadow(0px 1px 2px rgba(0, 0, 0, 0.3));\n",
              "    fill: #FFFFFF;\n",
              "  }\n",
              "</style>\n",
              "\n",
              "    <script>\n",
              "      async function quickchart(key) {\n",
              "        const containerElement = document.querySelector('#' + key);\n",
              "        const charts = await google.colab.kernel.invokeFunction(\n",
              "            'suggestCharts', [key], {});\n",
              "      }\n",
              "    </script>\n",
              "\n",
              "      <script>\n",
              "\n",
              "function displayQuickchartButton(domScope) {\n",
              "  let quickchartButtonEl =\n",
              "    domScope.querySelector('#df-d2c5b42a-c29b-4dc2-8339-3ae2081309e8 button.colab-df-quickchart');\n",
              "  quickchartButtonEl.style.display =\n",
              "    google.colab.kernel.accessAllowed ? 'block' : 'none';\n",
              "}\n",
              "\n",
              "        displayQuickchartButton(document);\n",
              "      </script>\n",
              "      <style>\n",
              "    .colab-df-container {\n",
              "      display:flex;\n",
              "      flex-wrap:wrap;\n",
              "      gap: 12px;\n",
              "    }\n",
              "\n",
              "    .colab-df-convert {\n",
              "      background-color: #E8F0FE;\n",
              "      border: none;\n",
              "      border-radius: 50%;\n",
              "      cursor: pointer;\n",
              "      display: none;\n",
              "      fill: #1967D2;\n",
              "      height: 32px;\n",
              "      padding: 0 0 0 0;\n",
              "      width: 32px;\n",
              "    }\n",
              "\n",
              "    .colab-df-convert:hover {\n",
              "      background-color: #E2EBFA;\n",
              "      box-shadow: 0px 1px 2px rgba(60, 64, 67, 0.3), 0px 1px 3px 1px rgba(60, 64, 67, 0.15);\n",
              "      fill: #174EA6;\n",
              "    }\n",
              "\n",
              "    [theme=dark] .colab-df-convert {\n",
              "      background-color: #3B4455;\n",
              "      fill: #D2E3FC;\n",
              "    }\n",
              "\n",
              "    [theme=dark] .colab-df-convert:hover {\n",
              "      background-color: #434B5C;\n",
              "      box-shadow: 0px 1px 3px 1px rgba(0, 0, 0, 0.15);\n",
              "      filter: drop-shadow(0px 1px 2px rgba(0, 0, 0, 0.3));\n",
              "      fill: #FFFFFF;\n",
              "    }\n",
              "  </style>\n",
              "\n",
              "      <script>\n",
              "        const buttonEl =\n",
              "          document.querySelector('#df-4c28f985-7130-4503-a26b-2e2043149715 button.colab-df-convert');\n",
              "        buttonEl.style.display =\n",
              "          google.colab.kernel.accessAllowed ? 'block' : 'none';\n",
              "\n",
              "        async function convertToInteractive(key) {\n",
              "          const element = document.querySelector('#df-4c28f985-7130-4503-a26b-2e2043149715');\n",
              "          const dataTable =\n",
              "            await google.colab.kernel.invokeFunction('convertToInteractive',\n",
              "                                                     [key], {});\n",
              "          if (!dataTable) return;\n",
              "\n",
              "          const docLinkHtml = 'Like what you see? Visit the ' +\n",
              "            '<a target=\"_blank\" href=https://colab.research.google.com/notebooks/data_table.ipynb>data table notebook</a>'\n",
              "            + ' to learn more about interactive tables.';\n",
              "          element.innerHTML = '';\n",
              "          dataTable['output_type'] = 'display_data';\n",
              "          await google.colab.output.renderOutput(dataTable, element);\n",
              "          const docLink = document.createElement('div');\n",
              "          docLink.innerHTML = docLinkHtml;\n",
              "          element.appendChild(docLink);\n",
              "        }\n",
              "      </script>\n",
              "    </div>\n",
              "  </div>\n"
            ]
          },
          "metadata": {}
        },
        {
          "output_type": "display_data",
          "data": {
            "text/plain": [
              "                  f0             f1             f2        product\n",
              "count  100000.000000  100000.000000  100000.000000  100000.000000\n",
              "mean        0.002023      -0.002081       2.495128      95.000000\n",
              "std         1.732045       1.730417       3.473445      44.749921\n",
              "min        -8.760004      -7.084020     -11.970335       0.000000\n",
              "25%        -1.162288      -1.174820       0.130359      59.450441\n",
              "50%         0.009424      -0.009482       2.484236      94.925613\n",
              "75%         1.158535       1.163678       4.858794     130.595027\n",
              "max         7.238262       7.844801      16.739402     190.029838"
            ],
            "text/html": [
              "\n",
              "\n",
              "  <div id=\"df-ce56ab29-cf49-4a08-aa8c-5292651aadfb\">\n",
              "    <div class=\"colab-df-container\">\n",
              "      <div>\n",
              "<style scoped>\n",
              "    .dataframe tbody tr th:only-of-type {\n",
              "        vertical-align: middle;\n",
              "    }\n",
              "\n",
              "    .dataframe tbody tr th {\n",
              "        vertical-align: top;\n",
              "    }\n",
              "\n",
              "    .dataframe thead th {\n",
              "        text-align: right;\n",
              "    }\n",
              "</style>\n",
              "<table border=\"1\" class=\"dataframe\">\n",
              "  <thead>\n",
              "    <tr style=\"text-align: right;\">\n",
              "      <th></th>\n",
              "      <th>f0</th>\n",
              "      <th>f1</th>\n",
              "      <th>f2</th>\n",
              "      <th>product</th>\n",
              "    </tr>\n",
              "  </thead>\n",
              "  <tbody>\n",
              "    <tr>\n",
              "      <th>count</th>\n",
              "      <td>100000.000000</td>\n",
              "      <td>100000.000000</td>\n",
              "      <td>100000.000000</td>\n",
              "      <td>100000.000000</td>\n",
              "    </tr>\n",
              "    <tr>\n",
              "      <th>mean</th>\n",
              "      <td>0.002023</td>\n",
              "      <td>-0.002081</td>\n",
              "      <td>2.495128</td>\n",
              "      <td>95.000000</td>\n",
              "    </tr>\n",
              "    <tr>\n",
              "      <th>std</th>\n",
              "      <td>1.732045</td>\n",
              "      <td>1.730417</td>\n",
              "      <td>3.473445</td>\n",
              "      <td>44.749921</td>\n",
              "    </tr>\n",
              "    <tr>\n",
              "      <th>min</th>\n",
              "      <td>-8.760004</td>\n",
              "      <td>-7.084020</td>\n",
              "      <td>-11.970335</td>\n",
              "      <td>0.000000</td>\n",
              "    </tr>\n",
              "    <tr>\n",
              "      <th>25%</th>\n",
              "      <td>-1.162288</td>\n",
              "      <td>-1.174820</td>\n",
              "      <td>0.130359</td>\n",
              "      <td>59.450441</td>\n",
              "    </tr>\n",
              "    <tr>\n",
              "      <th>50%</th>\n",
              "      <td>0.009424</td>\n",
              "      <td>-0.009482</td>\n",
              "      <td>2.484236</td>\n",
              "      <td>94.925613</td>\n",
              "    </tr>\n",
              "    <tr>\n",
              "      <th>75%</th>\n",
              "      <td>1.158535</td>\n",
              "      <td>1.163678</td>\n",
              "      <td>4.858794</td>\n",
              "      <td>130.595027</td>\n",
              "    </tr>\n",
              "    <tr>\n",
              "      <th>max</th>\n",
              "      <td>7.238262</td>\n",
              "      <td>7.844801</td>\n",
              "      <td>16.739402</td>\n",
              "      <td>190.029838</td>\n",
              "    </tr>\n",
              "  </tbody>\n",
              "</table>\n",
              "</div>\n",
              "      <button class=\"colab-df-convert\" onclick=\"convertToInteractive('df-ce56ab29-cf49-4a08-aa8c-5292651aadfb')\"\n",
              "              title=\"Convert this dataframe to an interactive table.\"\n",
              "              style=\"display:none;\">\n",
              "\n",
              "  <svg xmlns=\"http://www.w3.org/2000/svg\" height=\"24px\"viewBox=\"0 0 24 24\"\n",
              "       width=\"24px\">\n",
              "    <path d=\"M0 0h24v24H0V0z\" fill=\"none\"/>\n",
              "    <path d=\"M18.56 5.44l.94 2.06.94-2.06 2.06-.94-2.06-.94-.94-2.06-.94 2.06-2.06.94zm-11 1L8.5 8.5l.94-2.06 2.06-.94-2.06-.94L8.5 2.5l-.94 2.06-2.06.94zm10 10l.94 2.06.94-2.06 2.06-.94-2.06-.94-.94-2.06-.94 2.06-2.06.94z\"/><path d=\"M17.41 7.96l-1.37-1.37c-.4-.4-.92-.59-1.43-.59-.52 0-1.04.2-1.43.59L10.3 9.45l-7.72 7.72c-.78.78-.78 2.05 0 2.83L4 21.41c.39.39.9.59 1.41.59.51 0 1.02-.2 1.41-.59l7.78-7.78 2.81-2.81c.8-.78.8-2.07 0-2.86zM5.41 20L4 18.59l7.72-7.72 1.47 1.35L5.41 20z\"/>\n",
              "  </svg>\n",
              "      </button>\n",
              "\n",
              "\n",
              "\n",
              "    <div id=\"df-3a98a1e0-6e3e-4ad2-9d80-17d77e63ab0c\">\n",
              "      <button class=\"colab-df-quickchart\" onclick=\"quickchart('df-3a98a1e0-6e3e-4ad2-9d80-17d77e63ab0c')\"\n",
              "              title=\"Suggest charts.\"\n",
              "              style=\"display:none;\">\n",
              "\n",
              "<svg xmlns=\"http://www.w3.org/2000/svg\" height=\"24px\"viewBox=\"0 0 24 24\"\n",
              "     width=\"24px\">\n",
              "    <g>\n",
              "        <path d=\"M19 3H5c-1.1 0-2 .9-2 2v14c0 1.1.9 2 2 2h14c1.1 0 2-.9 2-2V5c0-1.1-.9-2-2-2zM9 17H7v-7h2v7zm4 0h-2V7h2v10zm4 0h-2v-4h2v4z\"/>\n",
              "    </g>\n",
              "</svg>\n",
              "      </button>\n",
              "    </div>\n",
              "\n",
              "<style>\n",
              "  .colab-df-quickchart {\n",
              "    background-color: #E8F0FE;\n",
              "    border: none;\n",
              "    border-radius: 50%;\n",
              "    cursor: pointer;\n",
              "    display: none;\n",
              "    fill: #1967D2;\n",
              "    height: 32px;\n",
              "    padding: 0 0 0 0;\n",
              "    width: 32px;\n",
              "  }\n",
              "\n",
              "  .colab-df-quickchart:hover {\n",
              "    background-color: #E2EBFA;\n",
              "    box-shadow: 0px 1px 2px rgba(60, 64, 67, 0.3), 0px 1px 3px 1px rgba(60, 64, 67, 0.15);\n",
              "    fill: #174EA6;\n",
              "  }\n",
              "\n",
              "  [theme=dark] .colab-df-quickchart {\n",
              "    background-color: #3B4455;\n",
              "    fill: #D2E3FC;\n",
              "  }\n",
              "\n",
              "  [theme=dark] .colab-df-quickchart:hover {\n",
              "    background-color: #434B5C;\n",
              "    box-shadow: 0px 1px 3px 1px rgba(0, 0, 0, 0.15);\n",
              "    filter: drop-shadow(0px 1px 2px rgba(0, 0, 0, 0.3));\n",
              "    fill: #FFFFFF;\n",
              "  }\n",
              "</style>\n",
              "\n",
              "    <script>\n",
              "      async function quickchart(key) {\n",
              "        const containerElement = document.querySelector('#' + key);\n",
              "        const charts = await google.colab.kernel.invokeFunction(\n",
              "            'suggestCharts', [key], {});\n",
              "      }\n",
              "    </script>\n",
              "\n",
              "      <script>\n",
              "\n",
              "function displayQuickchartButton(domScope) {\n",
              "  let quickchartButtonEl =\n",
              "    domScope.querySelector('#df-3a98a1e0-6e3e-4ad2-9d80-17d77e63ab0c button.colab-df-quickchart');\n",
              "  quickchartButtonEl.style.display =\n",
              "    google.colab.kernel.accessAllowed ? 'block' : 'none';\n",
              "}\n",
              "\n",
              "        displayQuickchartButton(document);\n",
              "      </script>\n",
              "      <style>\n",
              "    .colab-df-container {\n",
              "      display:flex;\n",
              "      flex-wrap:wrap;\n",
              "      gap: 12px;\n",
              "    }\n",
              "\n",
              "    .colab-df-convert {\n",
              "      background-color: #E8F0FE;\n",
              "      border: none;\n",
              "      border-radius: 50%;\n",
              "      cursor: pointer;\n",
              "      display: none;\n",
              "      fill: #1967D2;\n",
              "      height: 32px;\n",
              "      padding: 0 0 0 0;\n",
              "      width: 32px;\n",
              "    }\n",
              "\n",
              "    .colab-df-convert:hover {\n",
              "      background-color: #E2EBFA;\n",
              "      box-shadow: 0px 1px 2px rgba(60, 64, 67, 0.3), 0px 1px 3px 1px rgba(60, 64, 67, 0.15);\n",
              "      fill: #174EA6;\n",
              "    }\n",
              "\n",
              "    [theme=dark] .colab-df-convert {\n",
              "      background-color: #3B4455;\n",
              "      fill: #D2E3FC;\n",
              "    }\n",
              "\n",
              "    [theme=dark] .colab-df-convert:hover {\n",
              "      background-color: #434B5C;\n",
              "      box-shadow: 0px 1px 3px 1px rgba(0, 0, 0, 0.15);\n",
              "      filter: drop-shadow(0px 1px 2px rgba(0, 0, 0, 0.3));\n",
              "      fill: #FFFFFF;\n",
              "    }\n",
              "  </style>\n",
              "\n",
              "      <script>\n",
              "        const buttonEl =\n",
              "          document.querySelector('#df-ce56ab29-cf49-4a08-aa8c-5292651aadfb button.colab-df-convert');\n",
              "        buttonEl.style.display =\n",
              "          google.colab.kernel.accessAllowed ? 'block' : 'none';\n",
              "\n",
              "        async function convertToInteractive(key) {\n",
              "          const element = document.querySelector('#df-ce56ab29-cf49-4a08-aa8c-5292651aadfb');\n",
              "          const dataTable =\n",
              "            await google.colab.kernel.invokeFunction('convertToInteractive',\n",
              "                                                     [key], {});\n",
              "          if (!dataTable) return;\n",
              "\n",
              "          const docLinkHtml = 'Like what you see? Visit the ' +\n",
              "            '<a target=\"_blank\" href=https://colab.research.google.com/notebooks/data_table.ipynb>data table notebook</a>'\n",
              "            + ' to learn more about interactive tables.';\n",
              "          element.innerHTML = '';\n",
              "          dataTable['output_type'] = 'display_data';\n",
              "          await google.colab.output.renderOutput(dataTable, element);\n",
              "          const docLink = document.createElement('div');\n",
              "          docLink.innerHTML = docLinkHtml;\n",
              "          element.appendChild(docLink);\n",
              "        }\n",
              "      </script>\n",
              "    </div>\n",
              "  </div>\n"
            ]
          },
          "metadata": {}
        }
      ],
      "source": [
        "display(df_1.describe())\n",
        "display(df_2.describe())\n",
        "display(df_3.describe())"
      ]
    },
    {
      "cell_type": "markdown",
      "metadata": {
        "id": "NtjZUh09fNox"
      },
      "source": [
        "There are no obvious anomalies. But let's check the features for multicollinearity."
      ]
    },
    {
      "cell_type": "code",
      "execution_count": 13,
      "metadata": {
        "id": "lCXBAFIVfNox",
        "outputId": "4fde5967-023b-41c7-cd85-86d401e20ce5",
        "colab": {
          "base_uri": "https://localhost:8080/",
          "height": 853
        }
      },
      "outputs": [
        {
          "output_type": "display_data",
          "data": {
            "text/plain": [
              "<Figure size 1000x1000 with 6 Axes>"
            ],
            "image/png": "[encoded data removed]"
          },
          "metadata": {}
        }
      ],
      "source": [
        "fig, axes = plt.subplots(3, figsize=(10,10))\n",
        "\n",
        "sns.heatmap(df_1[['f0','f1','f2']].corr(), ax=axes[0])\n",
        "sns.heatmap(df_2[['f0','f1','f2']].corr(), ax=axes[1])\n",
        "sns.heatmap(df_3[['f0','f1','f2']].corr(), ax=axes[2])\n",
        "\n",
        "axes[0].set_title('Feature correlation for region 1')\n",
        "axes[1].set_title('Feature correlation for region 2')\n",
        "axes[2].set_title('Feature correlation for region 3')\n",
        "\n",
        "plt.show()"
      ]
    },
    {
      "cell_type": "markdown",
      "metadata": {
        "id": "FIgnlw3VfNox"
      },
      "source": [
        "There is practically no correlation between the features, hooray."
      ]
    },
    {
      "cell_type": "markdown",
      "metadata": {
        "id": "J2DMeoKFfNo2"
      },
      "source": [
        "Let's now look at the distribution of the target feature."
      ]
    },
    {
      "cell_type": "code",
      "execution_count": 14,
      "metadata": {
        "id": "XblFEmULfNo2",
        "outputId": "73608bd6-6796-4046-a978-a7dbd0f5c9ce",
        "colab": {
          "base_uri": "https://localhost:8080/",
          "height": 707
        }
      },
      "outputs": [
        {
          "output_type": "display_data",
          "data": {
            "text/plain": [
              "<Figure size 700x700 with 3 Axes>"
            ],
            "image/png": "[encoded data removed]"
          },
          "metadata": {}
        }
      ],
      "source": [
        "fig, axes = plt.subplots(3, figsize=(7,7))\n",
        "\n",
        "axes[0].hist(df_1['product'], bins=100, alpha=0.7, color='orange');\n",
        "axes[0].set_title('Product distribution, first region');\n",
        "axes[1].hist(df_2['product'], bins=100, alpha=0.7, color='orange');\n",
        "axes[1].set_title('Product distribution, second region');\n",
        "axes[2].hist(df_3['product'], bins=100, alpha=0.7, color='orange');\n",
        "axes[2].set_title('Product distribution, third region');\n",
        "\n",
        "plt.tight_layout()\n",
        "plt.show()"
      ]
    },
    {
      "cell_type": "markdown",
      "metadata": {
        "id": "fUDIip-xfNo2"
      },
      "source": [
        "The distribution in the first and second regions is close to normal (there are outlines of a bell), but fluctuations are interesting - for example, declines at values of about 50, 75, 100 - that is, with a step of 25. Curious.\n",
        "\n",
        "As for the second region, the production values in it are even more fragmented, and the distribution of the target feature resembles the distribution of the characteristic f2. Well, again, without knowing the specifics of the data, we can only guess."
      ]
    },
    {
      "cell_type": "markdown",
      "metadata": {
        "id": "koQJG9HQfNo3"
      },
      "source": [
        "Let's prepare datasets for training by highlighting the target feature."
      ]
    },
    {
      "cell_type": "code",
      "execution_count": 15,
      "metadata": {
        "id": "e5-yvvamfNo3"
      },
      "outputs": [],
      "source": [
        "dataframes = [df_1, df_2, df_3]\n",
        "\n",
        "def process(df):\n",
        "    df = df.drop(columns='id')\n",
        "    target = df['product']\n",
        "    features = df.drop(columns='product')\n",
        "    return features, target"
      ]
    },
    {
      "cell_type": "code",
      "execution_count": 16,
      "metadata": {
        "id": "_myIWMgefNo3"
      },
      "outputs": [],
      "source": [
        "features_1, target_1 = process(df_1)\n",
        "features_2, target_2 = process(df_2)\n",
        "features_3, target_3 = process(df_3)"
      ]
    },
    {
      "cell_type": "markdown",
      "metadata": {
        "id": "psT3bpMIfNo4"
      },
      "source": [
        "## Training and validating the model"
      ]
    },
    {
      "cell_type": "markdown",
      "metadata": {
        "id": "p06zmDSAfNo4"
      },
      "source": [
        "### Region #1"
      ]
    },
    {
      "cell_type": "markdown",
      "metadata": {
        "id": "AGFMGTIcfNo4"
      },
      "source": [
        "Let's start with the usual linear regression (and end with it, according to initial requirements :)). First, let's split the datasets into training and validation sets."
      ]
    },
    {
      "cell_type": "code",
      "execution_count": 17,
      "metadata": {
        "id": "vGlDjo3_fNo4",
        "outputId": "88bb7c57-3326-45d3-f82f-b1c7246555d0",
        "colab": {
          "base_uri": "https://localhost:8080/"
        }
      },
      "outputs": [
        {
          "output_type": "stream",
          "name": "stdout",
          "text": [
            "(75000, 3)\n",
            "(75000,)\n",
            "(25000, 3)\n",
            "(25000,)\n"
          ]
        }
      ],
      "source": [
        "RANDOM_STATE = 11235\n",
        "\n",
        "features_1_train, features_1_valid, target_1_train, target_1_valid = train_test_split(features_1,\n",
        "                                                                             target_1,\n",
        "                                                                             test_size=0.25,\n",
        "                                                                             random_state=RANDOM_STATE)\n",
        "\n",
        "print(features_1_train.shape)\n",
        "print(target_1_train.shape)\n",
        "print(features_1_valid.shape)\n",
        "print(target_1_valid.shape)"
      ]
    },
    {
      "cell_type": "markdown",
      "metadata": {
        "id": "k6DVtKJ1fNo4"
      },
      "source": [
        "We've splitted the data correctly. Now let's train the model and calculate its MSE."
      ]
    },
    {
      "cell_type": "code",
      "execution_count": 18,
      "metadata": {
        "id": "gXfat5hsfNo4",
        "outputId": "c6a02c34-4868-47f3-cb5f-ded926c8b509",
        "colab": {
          "base_uri": "https://localhost:8080/"
        }
      },
      "outputs": [
        {
          "output_type": "stream",
          "name": "stdout",
          "text": [
            "RMSE for the linear regression predictions in region 1 is 37.67\n"
          ]
        }
      ],
      "source": [
        "model_1 = LinearRegression()\n",
        "model_1.fit(features_1_train, target_1_train)\n",
        "rmse_1 = mean_squared_error(target_1_valid, model_1.predict(features_1_valid)) ** 0.5\n",
        "print(f'RMSE for the linear regression predictions in region 1 is {rmse_1:.2f}')"
      ]
    },
    {
      "cell_type": "markdown",
      "metadata": {
        "id": "D8fH26URfNo5"
      },
      "source": [
        "Let's estimate the error by looking at the mean of the predictions."
      ]
    },
    {
      "cell_type": "code",
      "execution_count": 19,
      "metadata": {
        "id": "Wun7dc-ffNo5",
        "outputId": "02d1497d-de0f-4d6f-86c2-6e58171b3ae2",
        "colab": {
          "base_uri": "https://localhost:8080/"
        }
      },
      "outputs": [
        {
          "output_type": "stream",
          "name": "stdout",
          "text": [
            "Среднее значение предсказаний линейной регрессии в регионе 1 составляет 92.38\n"
          ]
        }
      ],
      "source": [
        "print(f'Среднее значение предсказаний линейной регрессии в регионе 1 составляет \\\n",
        "{model_1.predict(features_1_valid).mean():.2f}')"
      ]
    },
    {
      "cell_type": "markdown",
      "metadata": {
        "id": "OlRg0pMufNo5"
      },
      "source": [
        "The error seems to be large enough, but according to the condition of the problem, for greater predictability we shall use linear regression. Welp. Let's save the predictions and look at all the key characteristics of the model at once."
      ]
    },
    {
      "cell_type": "code",
      "execution_count": 20,
      "metadata": {
        "id": "tD8uQ42ZfNo5",
        "outputId": "07184231-ae3b-43a7-9564-bf5dc0a14916",
        "colab": {
          "base_uri": "https://localhost:8080/"
        }
      },
      "outputs": [
        {
          "output_type": "stream",
          "name": "stdout",
          "text": [
            "Mean of predictions for region 1: 92.38\n",
            "RMSE of the model used: 37.67\n",
            "R^2: 0.28\n",
            "MAE: 31.02\n"
          ]
        }
      ],
      "source": [
        "predictions_1 = pd.Series(model_1.predict(features_1_valid), index=target_1_valid.index)\n",
        "r2_1 = r2_score(target_1_valid, predictions_1)\n",
        "mae_1 = mean_absolute_error(target_1_valid, predictions_1)\n",
        "\n",
        "print(f'Mean of predictions for region 1: {predictions_1.mean():.2f}')\n",
        "print(f'RMSE of the model used: {rmse_1:.2f}')\n",
        "print(f'R^2: {r2_1:.2f}')\n",
        "print(f'MAE: {mae_1:.2f}')"
      ]
    },
    {
      "cell_type": "markdown",
      "metadata": {
        "id": "LvMtdVdYfNo5"
      },
      "source": [
        "The quality is far from perfect, but let's repeat the procedure for other regions."
      ]
    },
    {
      "cell_type": "markdown",
      "metadata": {
        "id": "GKsJinRCfNo6"
      },
      "source": [
        "### Region 2"
      ]
    },
    {
      "cell_type": "code",
      "execution_count": 21,
      "metadata": {
        "id": "ZrY3cG3CfNo6"
      },
      "outputs": [],
      "source": [
        "features_2_train, features_2_valid, target_2_train, target_2_valid = train_test_split(features_2,\n",
        "                                                                             target_2,\n",
        "                                                                             test_size=0.25,\n",
        "                                                                             random_state=RANDOM_STATE)"
      ]
    },
    {
      "cell_type": "code",
      "execution_count": 22,
      "metadata": {
        "id": "wersefe-fNo6",
        "outputId": "a8b978ab-c3ea-4639-e804-954308468ad3",
        "colab": {
          "base_uri": "https://localhost:8080/"
        }
      },
      "outputs": [
        {
          "output_type": "stream",
          "name": "stdout",
          "text": [
            "RMSE for region 2: 0.89\n"
          ]
        }
      ],
      "source": [
        "model_2 = LinearRegression()\n",
        "model_2.fit(features_2_train, target_2_train)\n",
        "rmse_2 = mean_squared_error(target_2_valid, model_2.predict(features_2_valid)) ** 0.5\n",
        "print(f'RMSE for region 2: {rmse_2:.2f}')"
      ]
    },
    {
      "cell_type": "markdown",
      "metadata": {
        "id": "R68f2Z7HfNo6"
      },
      "source": [
        "Suspiciously small deviation, let's evaluate all the characteristics."
      ]
    },
    {
      "cell_type": "code",
      "execution_count": 23,
      "metadata": {
        "id": "tX0fYe8NfNo6",
        "outputId": "bef0c2e7-54d5-4e57-eb86-0e20e393cb03",
        "colab": {
          "base_uri": "https://localhost:8080/"
        }
      },
      "outputs": [
        {
          "output_type": "stream",
          "name": "stdout",
          "text": [
            "Mean of predictions for region 2: 68.54\n",
            "RMSE: 0.89\n",
            "R2: 0.99962\n",
            "MAE: 0.72\n"
          ]
        }
      ],
      "source": [
        "predictions_2 = pd.Series(model_2.predict(features_2_valid), index=target_2_valid.index)\n",
        "r2_2 = r2_score(target_2_valid, predictions_2)\n",
        "mae_2 = mean_absolute_error(target_2_valid, predictions_2)\n",
        "\n",
        "print(f'Mean of predictions for region 2: {predictions_2.mean():.2f}')\n",
        "print(f'RMSE: {rmse_2:.2f}')\n",
        "print(f'R2: {r2_2:.5f}')\n",
        "print(f'MAE: {mae_2:.2f}')"
      ]
    },
    {
      "cell_type": "markdown",
      "metadata": {
        "id": "yx_xL13TfNo7"
      },
      "source": [
        "Surprisingly low deviations (rmse and mae) and high coefficient of determination. Okay, let's not complain about perfection."
      ]
    },
    {
      "cell_type": "markdown",
      "metadata": {
        "id": "-7CdZzmVfNo7"
      },
      "source": [
        "### Регион 3"
      ]
    },
    {
      "cell_type": "code",
      "execution_count": 24,
      "metadata": {
        "id": "VdvPmUJjfNo7"
      },
      "outputs": [],
      "source": [
        "features_3_train, features_3_valid, target_3_train, target_3_valid = train_test_split(features_3,\n",
        "                                                                             target_3,\n",
        "                                                                             test_size=0.25,\n",
        "                                                                             random_state=RANDOM_STATE)"
      ]
    },
    {
      "cell_type": "code",
      "execution_count": 25,
      "metadata": {
        "id": "-eMVd6PafNo7",
        "outputId": "b663d59d-7ed7-4607-bd27-e6f0b601ae8a",
        "colab": {
          "base_uri": "https://localhost:8080/"
        }
      },
      "outputs": [
        {
          "output_type": "stream",
          "name": "stdout",
          "text": [
            "RMSE in region 3: 40.00\n"
          ]
        }
      ],
      "source": [
        "model_3 = LinearRegression()\n",
        "model_3.fit(features_3_train, target_3_train)\n",
        "rmse_3 = mean_squared_error(target_3_valid, model_3.predict(features_3_valid)) ** 0.5\n",
        "print(f'RMSE in region 3: {rmse_3:.2f}')"
      ]
    },
    {
      "cell_type": "markdown",
      "metadata": {
        "id": "DGUEhrX-fNo7"
      },
      "source": [
        "Almost like in the first region. Let's save the predictions and evaluate all the characteristics."
      ]
    },
    {
      "cell_type": "code",
      "execution_count": 26,
      "metadata": {
        "id": "duBLkI2HfNo7",
        "outputId": "1a47e596-e744-4ee7-a60f-af56afc67357",
        "colab": {
          "base_uri": "https://localhost:8080/"
        }
      },
      "outputs": [
        {
          "output_type": "stream",
          "name": "stdout",
          "text": [
            "Mean of predictions for region 3: 94.92\n",
            "RMSE: 40.00\n",
            "R^2: 0.20\n",
            "MAE: 32.71\n"
          ]
        }
      ],
      "source": [
        "predictions_3 = pd.Series(model_3.predict(features_3_valid), index=target_3_valid.index)\n",
        "r2_3 = r2_score(target_3_valid, predictions_3)\n",
        "mae_3 = mean_absolute_error(target_3_valid, predictions_3)\n",
        "\n",
        "print(f'Mean of predictions for region 3: {predictions_3.mean():.2f}')\n",
        "print(f'RMSE: {rmse_3:.2f}')\n",
        "print(f'R^2: {r2_3:.2f}')\n",
        "print(f'MAE: {mae_3:.2f}')"
      ]
    },
    {
      "cell_type": "markdown",
      "metadata": {
        "id": "fX9HBdxnfNo8"
      },
      "source": [
        "The coefficient of determination is 0.2. It's tempting to try other models, but let's stay within the requirements' frame."
      ]
    },
    {
      "cell_type": "markdown",
      "metadata": {
        "id": "Jwtd4h0-fNo8"
      },
      "source": [
        "### Comparing the metrics"
      ]
    },
    {
      "cell_type": "markdown",
      "metadata": {
        "id": "TLLKdG1hfNo8"
      },
      "source": [
        "Now let's visualize the difference in indicators for clarity."
      ]
    },
    {
      "cell_type": "code",
      "execution_count": 34,
      "metadata": {
        "id": "UkdM6iSjfNo9",
        "outputId": "b68d81ae-8836-4eaa-9317-3498a2f4f988",
        "colab": {
          "base_uri": "https://localhost:8080/",
          "height": 507
        }
      },
      "outputs": [
        {
          "output_type": "display_data",
          "data": {
            "text/plain": [
              "<Figure size 500x500 with 2 Axes>"
            ],
            "image/png": "[encoded data removed]"
          },
          "metadata": {}
        }
      ],
      "source": [
        "fig, ax = plt.subplots(2,1, figsize=(5,5));\n",
        "\n",
        "region_bars = ['#1', '#2', '#3']\n",
        "region_height = [target_1.mean(), target_2.mean(), target_3.mean()]\n",
        "prediction_height = [predictions_1.mean(), predictions_2.mean(), predictions_3.mean()]\n",
        "\n",
        "width = 0.4\n",
        "ind = np.arange(len(region_bars))\n",
        "\n",
        "ax[0].bar(ind - width/2, region_height, width, color='blue', label='Fact');\n",
        "ax[0].bar(ind + width/2, prediction_height, width, color='cyan', label='Prediction');\n",
        "ax[0].set_title('Current average production by region (thousand barrels)');\n",
        "ax[0].set_ylim(0,110);\n",
        "ax[0].set_xticks(ind)\n",
        "ax[0].set_xticklabels(region_bars)\n",
        "ax[0].legend()\n",
        "\n",
        "rmse_bars = ['#1', '#2', '#3']\n",
        "rmse_height = [rmse_1, rmse_2, rmse_3]\n",
        "ax[1].bar(rmse_bars, rmse_height, color='orange');\n",
        "ax[1].set_title('RMSE for each region');\n",
        "ax[1].set_ylim(0.45);\n",
        "\n",
        "plt.tight_layout()\n",
        "\n",
        "plt.show();"
      ]
    },
    {
      "cell_type": "markdown",
      "metadata": {
        "id": "yj-YYa8VfNo9"
      },
      "source": [
        "The average values of the predictions are practically the same as the averages of the actual data.\n",
        "\n",
        "It is striking how much better the models work for region No. 2. But since the specifics of the data are unknown to us, we cannot yet make meaningful assumptions."
      ]
    },
    {
      "cell_type": "markdown",
      "metadata": {
        "id": "JeOZQQOMfNo9"
      },
      "source": [
        "To be sure, let's quantify the difference between the averages in the actual data and predictions."
      ]
    },
    {
      "cell_type": "code",
      "execution_count": 28,
      "metadata": {
        "id": "3nq5JPOOfNo-",
        "outputId": "04421aad-f732-4110-bfb2-e2b2f640805b",
        "colab": {
          "base_uri": "https://localhost:8080/"
        }
      },
      "outputs": [
        {
          "output_type": "stream",
          "name": "stdout",
          "text": [
            "[92.50000000000001, 68.82500000000002, 95.00000000000004]\n",
            "[92.38496873374059, 68.53753761594476, 94.92033651991625]\n"
          ]
        }
      ],
      "source": [
        "print(region_height)\n",
        "print(prediction_height)"
      ]
    },
    {
      "cell_type": "markdown",
      "metadata": {
        "id": "8a3DwzSHfNo-"
      },
      "source": [
        "Yep, it's miniscule."
      ]
    },
    {
      "cell_type": "markdown",
      "metadata": {
        "id": "3r1O37SmfNo-"
      },
      "source": [
        "## Calculating the profit"
      ]
    },
    {
      "cell_type": "markdown",
      "metadata": {
        "id": "jqmCqGnBfNo-"
      },
      "source": [
        "Let's write down the main constants that will be useful for our calculations."
      ]
    },
    {
      "cell_type": "code",
      "execution_count": 29,
      "metadata": {
        "id": "heCjU1zofNo-",
        "outputId": "fe84fb68-a4f3-445a-9634-74e3bc36abd5",
        "colab": {
          "base_uri": "https://localhost:8080/"
        }
      },
      "outputs": [
        {
          "output_type": "stream",
          "name": "stdout",
          "text": [
            "111.11 \n",
            "\n"
          ]
        }
      ],
      "source": [
        "BUDGET_RUB = 10_000_000_000\n",
        "UNIT = 1000\n",
        "UNIT_REVENUE = 450\n",
        "THRESHOLD = 200\n",
        "LOSSLESS_PROD_MARGIN = BUDGET_RUB / (UNIT * UNIT_REVENUE) / THRESHOLD\n",
        "\n",
        "print(f'{LOSSLESS_PROD_MARGIN:.2f} \\n')"
      ]
    },
    {
      "cell_type": "markdown",
      "metadata": {
        "id": "cCyJpSW4fNo_"
      },
      "source": [
        "* ```budget_rub``` - the budget for the development of wells in each region (10,000,000,000 rubles).\n",
        "* ```unit``` is a unit of measurement of the target attribute (1 thousand barrels).\n",
        "* ```unit_revenue``` - revenue from one barrel (450 rubles).\n",
        "* ```lossless_production_margin ``` is the number of barrels to reach the breakeven threshold in the region (22,222,222 barrels)."
      ]
    },
    {
      "cell_type": "markdown",
      "metadata": {
        "id": "8ATsjrBafNo_"
      },
      "source": [
        "Let's estimate how many fields need to be developed in each region to reach the breakeven threshold. And for evaluation we take the average value of our predictions for each region."
      ]
    },
    {
      "cell_type": "code",
      "execution_count": 30,
      "metadata": {
        "id": "vwIKGqFIfNo_",
        "outputId": "8760317d-68b9-4d69-c42b-5f46c43caae2",
        "colab": {
          "base_uri": "https://localhost:8080/"
        }
      },
      "outputs": [
        {
          "output_type": "stream",
          "name": "stdout",
          "text": [
            "1.203 \n",
            "\n",
            "1.621 \n",
            "\n",
            "1.171 \n",
            "\n"
          ]
        }
      ],
      "source": [
        "for i in prediction_height:\n",
        "    print(f'{LOSSLESS_PROD_MARGIN/i:.3f}', '\\n')"
      ]
    },
    {
      "cell_type": "markdown",
      "metadata": {
        "id": "ufuHzkt1fNpA"
      },
      "source": [
        "Based on the predicted average production values, it will be enough to develop **two** fields in each region (provided that their performance will correspond to our predicted average)...\n",
        "\n",
        "But in order to reduce risks to zero and highlight the most profitable wells, we will make a function for calculating profit."
      ]
    },
    {
      "cell_type": "code",
      "execution_count": 31,
      "metadata": {
        "id": "a7nb_PEKfNpA"
      },
      "outputs": [],
      "source": [
        "def estimate_profit(target, predictions, count):\n",
        "    sources = pd.Series(predictions).sort_values(ascending=False)\n",
        "    selected_sources = target[sources.index][:count]\n",
        "    sum_revenue = selected_sources.sum() * UNIT * UNIT_REVENUE\n",
        "    return sum_revenue - BUDGET_RUB"
      ]
    },
    {
      "cell_type": "markdown",
      "metadata": {
        "id": "EfvVroplfNpA"
      },
      "source": [
        "Now we will make a function based on the Bootstrap method to select the 200 most profitable deposits based on 1000 random subsamples of 500 observations.\n",
        "\n",
        "By selecting the top 200 deposits 1000 times, we calculate 1000 possible profits. And write them down in a separate list.\n",
        "\n",
        "For these returns, we will calculate the mean and confidence interval at the 95% confidence level.\n",
        "\n",
        "We will also calculate the probability of unprofitability of deposits - it is important for the customer that it be **no more than 2.5%**."
      ]
    },
    {
      "cell_type": "code",
      "execution_count": 32,
      "metadata": {
        "id": "gG93NsgafNpA"
      },
      "outputs": [],
      "source": [
        "def bootstrap_sources(target, predictions, region):\n",
        "     values = []\n",
        "     state = np.random.RandomState(RANDOM_STATE)\n",
        "     for i in range(1000):\n",
        "         target_subsample = target.sample(n=500, replace=True, random_state=state)\n",
        "         predictions_subsample = predictions[target_subsample.index]\n",
        "         values.append(estimate_profit(target_subsample, predictions_subsample, THRESHOLD))\n",
        "\n",
        "     values = pd.Series(values)\n",
        "     mean = values.mean()\n",
        "     lower = values.quantile(0.025)\n",
        "     upper = values.quantile(0.975)\n",
        "     loss_probability = (values[values<0].count())/len(values)\n",
        "\n",
        "     return print(f'The predicted average profit for the region {region} is {mean:,.2f} rubles. \\n\\\n",
        "95% confidence interval: from {lower:,.2f} to {upper:,.2f} rubles. \\n\\\n",
        "Probability of losses: {loss_probability:.2%}.')"
      ]
    },
    {
      "cell_type": "markdown",
      "metadata": {
        "id": "LPI7Fa60fNpE"
      },
      "source": [
        "Let's apply this function for each region."
      ]
    },
    {
      "cell_type": "code",
      "execution_count": 33,
      "metadata": {
        "id": "BG6mqV7ffNpF",
        "outputId": "88bf99f6-77af-444d-87b3-a66af9242229",
        "colab": {
          "base_uri": "https://localhost:8080/"
        }
      },
      "outputs": [
        {
          "output_type": "stream",
          "name": "stdout",
          "text": [
            "The predicted average profit for the region 1 is 435,996,589.20 rubles. \n",
            "95% confidence interval: from -48,391,147.29 to 944,401,611.52 rubles. \n",
            "Probability of losses: 4.60%.\n",
            "\n",
            "The predicted average profit for the region 2 is 477,052,539.63 rubles. \n",
            "95% confidence interval: from 74,463,435.37 to 888,676,356.26 rubles. \n",
            "Probability of losses: 1.00%.\n",
            "\n",
            "The predicted average profit for the region 3 is 375,005,031.18 rubles. \n",
            "95% confidence interval: from -196,572,758.78 to 931,375,110.82 rubles. \n",
            "Probability of losses: 9.50%.\n"
          ]
        }
      ],
      "source": [
        "bootstrap_sources(target_1_valid, predictions_1, 1)\n",
        "print()\n",
        "bootstrap_sources(target_2_valid, predictions_2, 2)\n",
        "print()\n",
        "bootstrap_sources(target_3_valid, predictions_3, 3)"
      ]
    },
    {
      "cell_type": "markdown",
      "metadata": {
        "id": "FjNwRRPYfNpF"
      },
      "source": [
        "The probabilities of loss in regions #1 and #3 are too high! This leaves region #2 – fortunately, the average profit predicted in it is still the largest relative to the three regions."
      ]
    },
    {
      "cell_type": "markdown",
      "metadata": {
        "id": "_LNySNaufNpF"
      },
      "source": [
        "## Conclusions"
      ]
    },
    {
      "cell_type": "markdown",
      "metadata": {
        "id": "9_5aU7x2fNpF"
      },
      "source": [
        "Based on the results of the analysis, we can recommend region 2 for field development. Reasons for that are:\n",
        "\n",
        "* Probability of loss is **1%**;\n",
        "* Projected average profit - **477,052,540** rubles;\n",
        "* With a 95% probability, the average profit will be in the range from **74,463,435** to **888,676,356** rubles.\n",
        "\n",
        "The model used is linear regression. Moreover, for the second region, the model turned out to be of the highest quality. Apparently, due to the specifics of the input data. Our final metrics:\n",
        "\n",
        "* Standard deviation - 0.89\n",
        "* R^2 - 0.99962\n",
        "* Mean absolute deviation - 0.72"
      ]
    },
    {
      "cell_type": "code",
      "execution_count": 33,
      "metadata": {
        "id": "J-c4H5eofNpH"
      },
      "outputs": [],
      "source": []
    }
  ],
  "metadata": {
    "ExecuteTimeLog": [
      {
        "duration": 1458,
        "start_time": "2023-03-25T20:23:02.289Z"
      },
      {
        "duration": 115,
        "start_time": "2023-03-25T20:24:03.069Z"
      },
      {
        "duration": 1974,
        "start_time": "2023-03-25T20:24:05.117Z"
      },
      {
        "duration": 13,
        "start_time": "2023-03-25T20:24:07.888Z"
      },
      {
        "duration": 63,
        "start_time": "2023-03-25T21:19:45.168Z"
      },
      {
        "duration": 73,
        "start_time": "2023-03-25T21:19:56.237Z"
      },
      {
        "duration": 56,
        "start_time": "2023-03-25T21:46:12.054Z"
      },
      {
        "duration": 22,
        "start_time": "2023-03-25T21:46:17.400Z"
      },
      {
        "duration": 19,
        "start_time": "2023-03-25T21:46:24.989Z"
      },
      {
        "duration": 13,
        "start_time": "2023-03-25T21:55:30.652Z"
      },
      {
        "duration": 4,
        "start_time": "2023-03-25T21:56:14.387Z"
      },
      {
        "duration": 12,
        "start_time": "2023-03-25T21:56:38.875Z"
      },
      {
        "duration": 26,
        "start_time": "2023-03-25T21:56:46.039Z"
      },
      {
        "duration": 28,
        "start_time": "2023-03-25T21:57:03.415Z"
      },
      {
        "duration": 39,
        "start_time": "2023-03-25T21:57:05.476Z"
      },
      {
        "duration": 39,
        "start_time": "2023-03-25T21:57:27.955Z"
      },
      {
        "duration": 20,
        "start_time": "2023-03-25T21:58:08.843Z"
      },
      {
        "duration": 23,
        "start_time": "2023-03-25T21:58:16.112Z"
      },
      {
        "duration": 19,
        "start_time": "2023-03-25T21:58:30.483Z"
      },
      {
        "duration": 404,
        "start_time": "2023-03-25T21:58:36.895Z"
      },
      {
        "duration": 33,
        "start_time": "2023-03-25T21:58:37.395Z"
      },
      {
        "duration": 7,
        "start_time": "2023-03-25T21:58:39.724Z"
      },
      {
        "duration": 19,
        "start_time": "2023-03-25T21:58:46.883Z"
      },
      {
        "duration": 17,
        "start_time": "2023-03-25T21:59:14.207Z"
      },
      {
        "duration": 416,
        "start_time": "2023-03-25T21:59:26.960Z"
      },
      {
        "duration": 35,
        "start_time": "2023-03-25T21:59:27.378Z"
      },
      {
        "duration": 9,
        "start_time": "2023-03-25T21:59:27.607Z"
      },
      {
        "duration": 13,
        "start_time": "2023-03-25T21:59:27.931Z"
      },
      {
        "duration": 10,
        "start_time": "2023-03-25T22:00:12.295Z"
      },
      {
        "duration": 17,
        "start_time": "2023-03-25T22:00:23.469Z"
      },
      {
        "duration": 466,
        "start_time": "2023-03-25T22:00:26.691Z"
      },
      {
        "duration": 37,
        "start_time": "2023-03-25T22:00:27.164Z"
      },
      {
        "duration": 8,
        "start_time": "2023-03-25T22:00:27.203Z"
      },
      {
        "duration": 12,
        "start_time": "2023-03-25T22:00:27.213Z"
      },
      {
        "duration": 14,
        "start_time": "2023-03-25T22:00:33.247Z"
      },
      {
        "duration": 386,
        "start_time": "2023-03-25T22:00:42.043Z"
      },
      {
        "duration": 37,
        "start_time": "2023-03-25T22:00:42.448Z"
      },
      {
        "duration": 10,
        "start_time": "2023-03-25T22:00:48.132Z"
      },
      {
        "duration": 1431,
        "start_time": "2023-03-25T22:01:26.607Z"
      },
      {
        "duration": 17,
        "start_time": "2023-03-25T22:05:21.202Z"
      },
      {
        "duration": 248,
        "start_time": "2023-03-25T22:05:33.658Z"
      },
      {
        "duration": 11,
        "start_time": "2023-03-25T22:06:07.160Z"
      },
      {
        "duration": 14,
        "start_time": "2023-03-25T22:06:29.444Z"
      },
      {
        "duration": 1871,
        "start_time": "2023-03-25T22:06:36.781Z"
      },
      {
        "duration": 548,
        "start_time": "2023-03-25T22:06:44.236Z"
      },
      {
        "duration": 0,
        "start_time": "2023-03-25T22:08:28.226Z"
      },
      {
        "duration": 17,
        "start_time": "2023-03-25T22:08:32.915Z"
      },
      {
        "duration": 2108,
        "start_time": "2023-03-25T22:08:34.762Z"
      },
      {
        "duration": 210,
        "start_time": "2023-03-25T22:08:56.655Z"
      },
      {
        "duration": 270,
        "start_time": "2023-03-25T22:11:00.025Z"
      },
      {
        "duration": 293,
        "start_time": "2023-03-25T22:11:04.424Z"
      },
      {
        "duration": 174,
        "start_time": "2023-03-25T22:11:14.704Z"
      },
      {
        "duration": 120,
        "start_time": "2023-03-25T22:11:21.153Z"
      },
      {
        "duration": 290,
        "start_time": "2023-03-25T22:11:25.817Z"
      },
      {
        "duration": 255,
        "start_time": "2023-03-25T22:11:30.733Z"
      },
      {
        "duration": 250,
        "start_time": "2023-03-25T22:12:08.021Z"
      },
      {
        "duration": 737,
        "start_time": "2023-03-25T22:12:16.390Z"
      },
      {
        "duration": 764,
        "start_time": "2023-03-25T22:12:46.094Z"
      },
      {
        "duration": 723,
        "start_time": "2023-03-25T22:13:10.355Z"
      },
      {
        "duration": 721,
        "start_time": "2023-03-25T22:13:29.782Z"
      },
      {
        "duration": 716,
        "start_time": "2023-03-25T22:13:32.186Z"
      },
      {
        "duration": 766,
        "start_time": "2023-03-25T22:13:36.051Z"
      },
      {
        "duration": 266,
        "start_time": "2023-03-25T22:13:45.786Z"
      },
      {
        "duration": 308,
        "start_time": "2023-03-25T22:14:01.951Z"
      },
      {
        "duration": 3534,
        "start_time": "2023-03-25T22:14:18.754Z"
      },
      {
        "duration": 239,
        "start_time": "2023-03-25T22:14:35.239Z"
      },
      {
        "duration": 247,
        "start_time": "2023-03-25T22:14:41.015Z"
      },
      {
        "duration": 362,
        "start_time": "2023-03-25T22:14:56.491Z"
      },
      {
        "duration": 303,
        "start_time": "2023-03-25T22:15:03.059Z"
      },
      {
        "duration": 320,
        "start_time": "2023-03-25T22:15:09.071Z"
      },
      {
        "duration": 306,
        "start_time": "2023-03-25T22:15:39.939Z"
      },
      {
        "duration": 263,
        "start_time": "2023-03-25T22:16:36.480Z"
      },
      {
        "duration": 225,
        "start_time": "2023-03-25T22:17:44.709Z"
      },
      {
        "duration": 283,
        "start_time": "2023-03-25T22:18:26.593Z"
      },
      {
        "duration": 299,
        "start_time": "2023-03-25T22:18:46.993Z"
      },
      {
        "duration": 575,
        "start_time": "2023-03-25T22:19:48.965Z"
      },
      {
        "duration": 585,
        "start_time": "2023-03-25T22:20:02.578Z"
      },
      {
        "duration": 648,
        "start_time": "2023-03-25T22:20:35.551Z"
      },
      {
        "duration": 965,
        "start_time": "2023-03-25T22:20:56.536Z"
      },
      {
        "duration": 1539,
        "start_time": "2023-03-25T22:21:31.667Z"
      },
      {
        "duration": 549,
        "start_time": "2023-03-25T22:21:45.376Z"
      },
      {
        "duration": 1498,
        "start_time": "2023-03-25T22:21:52.882Z"
      },
      {
        "duration": 1551,
        "start_time": "2023-03-25T22:22:04.266Z"
      },
      {
        "duration": 3408,
        "start_time": "2023-03-25T22:22:23.500Z"
      },
      {
        "duration": 1503,
        "start_time": "2023-03-25T22:22:35.867Z"
      },
      {
        "duration": 1534,
        "start_time": "2023-03-25T22:22:50.270Z"
      },
      {
        "duration": 1854,
        "start_time": "2023-03-25T22:23:01.222Z"
      },
      {
        "duration": 4424,
        "start_time": "2023-03-25T22:23:23.467Z"
      },
      {
        "duration": 2518,
        "start_time": "2023-03-25T22:23:43.986Z"
      },
      {
        "duration": 2684,
        "start_time": "2023-03-25T22:24:14.894Z"
      },
      {
        "duration": 2720,
        "start_time": "2023-03-25T22:24:49.469Z"
      },
      {
        "duration": 1669,
        "start_time": "2023-03-25T22:25:44.223Z"
      },
      {
        "duration": 1617,
        "start_time": "2023-03-25T22:25:57.303Z"
      },
      {
        "duration": 1645,
        "start_time": "2023-03-25T22:27:34.788Z"
      },
      {
        "duration": 1611,
        "start_time": "2023-03-25T22:28:11.308Z"
      },
      {
        "duration": 1590,
        "start_time": "2023-03-25T22:28:22.216Z"
      },
      {
        "duration": 7044,
        "start_time": "2023-03-25T22:28:54.115Z"
      },
      {
        "duration": 2213,
        "start_time": "2023-03-25T22:29:22.917Z"
      },
      {
        "duration": 2259,
        "start_time": "2023-03-25T22:29:41.770Z"
      },
      {
        "duration": 68,
        "start_time": "2023-03-25T22:30:45.524Z"
      },
      {
        "duration": 2304,
        "start_time": "2023-03-25T22:30:56.102Z"
      },
      {
        "duration": 22,
        "start_time": "2023-03-25T22:31:36.637Z"
      },
      {
        "duration": 61,
        "start_time": "2023-03-25T22:31:40.213Z"
      },
      {
        "duration": 135,
        "start_time": "2023-03-25T22:32:26.063Z"
      },
      {
        "duration": 136,
        "start_time": "2023-03-25T22:32:28.769Z"
      },
      {
        "duration": 144,
        "start_time": "2023-03-25T22:32:42.521Z"
      },
      {
        "duration": 307,
        "start_time": "2023-03-25T22:32:58.769Z"
      },
      {
        "duration": 147,
        "start_time": "2023-03-25T22:33:05.681Z"
      },
      {
        "duration": 141,
        "start_time": "2023-03-25T22:34:24.370Z"
      },
      {
        "duration": 106,
        "start_time": "2023-03-25T22:34:53.823Z"
      },
      {
        "duration": 79,
        "start_time": "2023-03-25T22:37:31.091Z"
      },
      {
        "duration": 64,
        "start_time": "2023-03-25T22:37:37.120Z"
      },
      {
        "duration": 4,
        "start_time": "2023-03-25T22:37:42.031Z"
      },
      {
        "duration": 60,
        "start_time": "2023-03-25T22:38:38.003Z"
      },
      {
        "duration": 46,
        "start_time": "2023-03-25T22:38:43.028Z"
      },
      {
        "duration": 78,
        "start_time": "2023-03-25T22:38:43.891Z"
      },
      {
        "duration": 44,
        "start_time": "2023-03-25T22:38:58.924Z"
      },
      {
        "duration": 87,
        "start_time": "2023-03-25T22:39:00.511Z"
      },
      {
        "duration": 55,
        "start_time": "2023-03-25T22:39:13.632Z"
      },
      {
        "duration": 71,
        "start_time": "2023-03-25T22:39:13.839Z"
      },
      {
        "duration": 1720,
        "start_time": "2023-03-26T13:13:52.058Z"
      },
      {
        "duration": 2092,
        "start_time": "2023-03-26T13:13:53.781Z"
      },
      {
        "duration": 35,
        "start_time": "2023-03-26T13:13:55.874Z"
      },
      {
        "duration": 14,
        "start_time": "2023-03-26T13:13:55.911Z"
      },
      {
        "duration": 4,
        "start_time": "2023-03-26T13:13:55.928Z"
      },
      {
        "duration": 25,
        "start_time": "2023-03-26T13:13:55.934Z"
      },
      {
        "duration": 2335,
        "start_time": "2023-03-26T13:13:55.966Z"
      },
      {
        "duration": 180,
        "start_time": "2023-03-26T13:13:58.303Z"
      },
      {
        "duration": 134,
        "start_time": "2023-03-26T13:13:58.484Z"
      },
      {
        "duration": 23,
        "start_time": "2023-03-26T13:16:55.829Z"
      },
      {
        "duration": 161,
        "start_time": "2023-03-26T13:17:02.505Z"
      },
      {
        "duration": 49,
        "start_time": "2023-03-26T13:17:10.184Z"
      },
      {
        "duration": 14,
        "start_time": "2023-03-26T13:17:13.119Z"
      },
      {
        "duration": 40,
        "start_time": "2023-03-26T13:17:35.125Z"
      },
      {
        "duration": 16,
        "start_time": "2023-03-26T13:17:46.818Z"
      },
      {
        "duration": 10,
        "start_time": "2023-03-26T13:19:48.244Z"
      },
      {
        "duration": 5,
        "start_time": "2023-03-26T13:24:08.134Z"
      },
      {
        "duration": 26,
        "start_time": "2023-03-26T13:24:18.475Z"
      },
      {
        "duration": 27,
        "start_time": "2023-03-26T13:24:36.227Z"
      },
      {
        "duration": 10,
        "start_time": "2023-03-26T13:24:44.876Z"
      },
      {
        "duration": 14,
        "start_time": "2023-03-26T13:25:04.958Z"
      },
      {
        "duration": 8,
        "start_time": "2023-03-26T13:25:18.931Z"
      },
      {
        "duration": 31,
        "start_time": "2023-03-26T13:25:19.324Z"
      },
      {
        "duration": 4,
        "start_time": "2023-03-26T13:25:25.004Z"
      },
      {
        "duration": 405,
        "start_time": "2023-03-26T13:25:25.017Z"
      },
      {
        "duration": 44,
        "start_time": "2023-03-26T13:25:25.424Z"
      },
      {
        "duration": 8,
        "start_time": "2023-03-26T13:25:25.470Z"
      },
      {
        "duration": 2355,
        "start_time": "2023-03-26T13:25:25.480Z"
      },
      {
        "duration": 147,
        "start_time": "2023-03-26T13:25:27.837Z"
      },
      {
        "duration": 108,
        "start_time": "2023-03-26T13:25:27.986Z"
      },
      {
        "duration": 105,
        "start_time": "2023-03-26T13:25:35.900Z"
      },
      {
        "duration": 5,
        "start_time": "2023-03-26T13:25:36.565Z"
      },
      {
        "duration": 16,
        "start_time": "2023-03-26T13:25:37.584Z"
      },
      {
        "duration": 22,
        "start_time": "2023-03-26T13:25:51.824Z"
      },
      {
        "duration": 12,
        "start_time": "2023-03-26T13:26:11.106Z"
      },
      {
        "duration": 20,
        "start_time": "2023-03-26T13:26:26.013Z"
      },
      {
        "duration": 13,
        "start_time": "2023-03-26T13:26:40.000Z"
      },
      {
        "duration": 104,
        "start_time": "2023-03-26T13:26:59.839Z"
      },
      {
        "duration": 17,
        "start_time": "2023-03-26T13:30:10.056Z"
      },
      {
        "duration": 17,
        "start_time": "2023-03-26T13:30:31.235Z"
      },
      {
        "duration": 14,
        "start_time": "2023-03-26T13:30:46.660Z"
      },
      {
        "duration": 22,
        "start_time": "2023-03-26T13:30:50.591Z"
      },
      {
        "duration": 6,
        "start_time": "2023-03-26T13:31:04.561Z"
      },
      {
        "duration": 16,
        "start_time": "2023-03-26T13:31:08.912Z"
      },
      {
        "duration": 13,
        "start_time": "2023-03-26T13:31:27.115Z"
      },
      {
        "duration": 27,
        "start_time": "2023-03-26T13:31:40.435Z"
      },
      {
        "duration": 16,
        "start_time": "2023-03-26T13:31:42.861Z"
      },
      {
        "duration": 13,
        "start_time": "2023-03-26T13:33:09.079Z"
      },
      {
        "duration": 24,
        "start_time": "2023-03-26T13:37:14.860Z"
      },
      {
        "duration": 22,
        "start_time": "2023-03-26T13:37:24.411Z"
      },
      {
        "duration": 5261,
        "start_time": "2023-03-26T13:43:42.915Z"
      },
      {
        "duration": 1448166,
        "start_time": "2023-03-26T13:48:02.637Z"
      },
      {
        "duration": 36,
        "start_time": "2023-03-26T14:49:50.420Z"
      },
      {
        "duration": 1845,
        "start_time": "2023-03-26T14:49:51.655Z"
      },
      {
        "duration": 1865,
        "start_time": "2023-03-26T14:50:08.427Z"
      },
      {
        "duration": 5076,
        "start_time": "2023-03-26T14:50:17.491Z"
      },
      {
        "duration": 2625,
        "start_time": "2023-03-26T14:50:50.850Z"
      },
      {
        "duration": 20,
        "start_time": "2023-03-26T14:50:58.203Z"
      },
      {
        "duration": 2630,
        "start_time": "2023-03-26T14:51:02.472Z"
      },
      {
        "duration": 373912,
        "start_time": "2023-03-26T14:51:10.672Z"
      },
      {
        "duration": 20,
        "start_time": "2023-03-26T15:02:11.085Z"
      },
      {
        "duration": 22,
        "start_time": "2023-03-26T15:02:30.623Z"
      },
      {
        "duration": 19,
        "start_time": "2023-03-26T15:02:34.756Z"
      },
      {
        "duration": 17,
        "start_time": "2023-03-26T15:02:54.757Z"
      },
      {
        "duration": 12,
        "start_time": "2023-03-26T15:03:02.105Z"
      },
      {
        "duration": 80,
        "start_time": "2023-03-26T15:03:47.794Z"
      },
      {
        "duration": 12,
        "start_time": "2023-03-26T15:04:43.254Z"
      },
      {
        "duration": 15,
        "start_time": "2023-03-26T15:05:09.355Z"
      },
      {
        "duration": 2573,
        "start_time": "2023-03-26T15:05:10.120Z"
      },
      {
        "duration": 74,
        "start_time": "2023-03-26T15:05:37.789Z"
      },
      {
        "duration": 12,
        "start_time": "2023-03-26T15:06:40.155Z"
      },
      {
        "duration": 13,
        "start_time": "2023-03-26T15:07:07.553Z"
      },
      {
        "duration": 12,
        "start_time": "2023-03-26T15:07:24.200Z"
      },
      {
        "duration": 12,
        "start_time": "2023-03-26T15:07:42.165Z"
      },
      {
        "duration": 2492,
        "start_time": "2023-03-26T15:08:25.575Z"
      },
      {
        "duration": 2471,
        "start_time": "2023-03-26T15:08:39.683Z"
      },
      {
        "duration": 333877,
        "start_time": "2023-03-26T15:09:19.651Z"
      },
      {
        "duration": 53,
        "start_time": "2023-03-26T15:15:01.583Z"
      },
      {
        "duration": 46,
        "start_time": "2023-03-26T15:16:04.855Z"
      },
      {
        "duration": 11,
        "start_time": "2023-03-26T15:16:09.827Z"
      },
      {
        "duration": 10,
        "start_time": "2023-03-26T15:16:49.310Z"
      },
      {
        "duration": 13,
        "start_time": "2023-03-26T15:17:12.646Z"
      },
      {
        "duration": 30,
        "start_time": "2023-03-26T15:17:31.915Z"
      },
      {
        "duration": 2455,
        "start_time": "2023-03-26T15:18:10.027Z"
      },
      {
        "duration": 2638,
        "start_time": "2023-03-26T15:18:17.831Z"
      },
      {
        "duration": 381368,
        "start_time": "2023-03-26T15:18:50.656Z"
      },
      {
        "duration": 65,
        "start_time": "2023-03-26T15:26:35.507Z"
      },
      {
        "duration": 762,
        "start_time": "2023-03-26T15:45:19.707Z"
      },
      {
        "duration": 342,
        "start_time": "2023-03-26T15:45:25.242Z"
      },
      {
        "duration": 35,
        "start_time": "2023-03-26T15:45:25.607Z"
      },
      {
        "duration": 8,
        "start_time": "2023-03-26T15:45:26.162Z"
      },
      {
        "duration": 55,
        "start_time": "2023-03-26T15:45:27.604Z"
      },
      {
        "duration": 130,
        "start_time": "2023-03-26T15:46:19.626Z"
      },
      {
        "duration": 8442,
        "start_time": "2023-03-26T15:46:30.078Z"
      },
      {
        "duration": 134,
        "start_time": "2023-03-26T15:47:03.927Z"
      },
      {
        "duration": 75,
        "start_time": "2023-03-26T15:47:15.032Z"
      },
      {
        "duration": 45,
        "start_time": "2023-03-26T15:47:46.049Z"
      },
      {
        "duration": 14,
        "start_time": "2023-03-26T15:47:46.375Z"
      },
      {
        "duration": 7,
        "start_time": "2023-03-26T15:47:53.778Z"
      },
      {
        "duration": 14,
        "start_time": "2023-03-26T15:47:54.551Z"
      },
      {
        "duration": 345,
        "start_time": "2023-03-26T15:48:04.351Z"
      },
      {
        "duration": 32,
        "start_time": "2023-03-26T15:48:04.698Z"
      },
      {
        "duration": 9,
        "start_time": "2023-03-26T15:48:04.739Z"
      },
      {
        "duration": 51,
        "start_time": "2023-03-26T15:48:04.870Z"
      },
      {
        "duration": 2475,
        "start_time": "2023-03-26T15:48:05.034Z"
      },
      {
        "duration": 150,
        "start_time": "2023-03-26T15:48:07.511Z"
      },
      {
        "duration": 115,
        "start_time": "2023-03-26T15:48:07.663Z"
      },
      {
        "duration": 146,
        "start_time": "2023-03-26T15:48:15.810Z"
      },
      {
        "duration": 107,
        "start_time": "2023-03-26T15:48:16.755Z"
      },
      {
        "duration": 6,
        "start_time": "2023-03-26T15:48:17.727Z"
      },
      {
        "duration": 19,
        "start_time": "2023-03-26T15:48:19.230Z"
      },
      {
        "duration": 4,
        "start_time": "2023-03-26T15:48:27.358Z"
      },
      {
        "duration": 10,
        "start_time": "2023-03-26T15:48:27.778Z"
      },
      {
        "duration": 21,
        "start_time": "2023-03-26T15:48:30.695Z"
      },
      {
        "duration": 28,
        "start_time": "2023-03-26T15:48:31.867Z"
      },
      {
        "duration": 3,
        "start_time": "2023-03-26T15:48:58.270Z"
      },
      {
        "duration": 12,
        "start_time": "2023-03-26T15:48:59.161Z"
      },
      {
        "duration": 13,
        "start_time": "2023-03-26T15:49:00.259Z"
      },
      {
        "duration": 11,
        "start_time": "2023-03-26T15:49:00.975Z"
      },
      {
        "duration": 2595,
        "start_time": "2023-03-26T15:49:02.911Z"
      },
      {
        "duration": 12,
        "start_time": "2023-03-26T15:49:12.386Z"
      },
      {
        "duration": 2539,
        "start_time": "2023-03-26T15:49:15.068Z"
      },
      {
        "duration": 10,
        "start_time": "2023-03-26T17:00:33.880Z"
      },
      {
        "duration": 51,
        "start_time": "2023-03-26T17:00:57.711Z"
      },
      {
        "duration": 43,
        "start_time": "2023-03-26T17:01:03.162Z"
      },
      {
        "duration": 126,
        "start_time": "2023-03-26T17:02:56.817Z"
      },
      {
        "duration": 94,
        "start_time": "2023-03-26T17:03:48.430Z"
      },
      {
        "duration": 71,
        "start_time": "2023-03-26T17:03:57.624Z"
      },
      {
        "duration": 80,
        "start_time": "2023-03-26T17:04:18.770Z"
      },
      {
        "duration": 172,
        "start_time": "2023-03-26T17:04:23.969Z"
      },
      {
        "duration": 88,
        "start_time": "2023-03-26T17:04:33.269Z"
      },
      {
        "duration": 88,
        "start_time": "2023-03-26T17:04:40.730Z"
      },
      {
        "duration": 243,
        "start_time": "2023-03-26T17:05:38.976Z"
      },
      {
        "duration": 239,
        "start_time": "2023-03-26T17:05:49.972Z"
      },
      {
        "duration": 597,
        "start_time": "2023-03-26T17:06:26.419Z"
      },
      {
        "duration": 309,
        "start_time": "2023-03-26T17:06:37.776Z"
      },
      {
        "duration": 296,
        "start_time": "2023-03-26T17:07:21.978Z"
      },
      {
        "duration": 292,
        "start_time": "2023-03-26T17:07:38.926Z"
      },
      {
        "duration": 294,
        "start_time": "2023-03-26T17:07:55.192Z"
      },
      {
        "duration": 391,
        "start_time": "2023-03-26T17:07:58.826Z"
      },
      {
        "duration": 19,
        "start_time": "2023-03-26T17:08:12.984Z"
      },
      {
        "duration": 193,
        "start_time": "2023-03-26T17:08:20.309Z"
      },
      {
        "duration": 130,
        "start_time": "2023-03-26T17:08:25.039Z"
      },
      {
        "duration": 122,
        "start_time": "2023-03-26T17:08:35.009Z"
      },
      {
        "duration": 189,
        "start_time": "2023-03-26T17:08:44.380Z"
      },
      {
        "duration": 228,
        "start_time": "2023-03-26T17:08:56.438Z"
      },
      {
        "duration": 180,
        "start_time": "2023-03-26T17:09:01.823Z"
      },
      {
        "duration": 192,
        "start_time": "2023-03-26T17:09:09.996Z"
      },
      {
        "duration": 184,
        "start_time": "2023-03-26T17:09:17.169Z"
      },
      {
        "duration": 185,
        "start_time": "2023-03-26T17:11:05.538Z"
      },
      {
        "duration": 180,
        "start_time": "2023-03-26T17:11:23.480Z"
      },
      {
        "duration": 298,
        "start_time": "2023-03-26T17:11:30.402Z"
      },
      {
        "duration": 187,
        "start_time": "2023-03-26T17:11:45.584Z"
      },
      {
        "duration": 189,
        "start_time": "2023-03-26T17:12:05.802Z"
      },
      {
        "duration": 150,
        "start_time": "2023-03-26T17:14:32.756Z"
      },
      {
        "duration": 157,
        "start_time": "2023-03-26T17:14:43.314Z"
      },
      {
        "duration": 288,
        "start_time": "2023-03-26T17:14:54.223Z"
      },
      {
        "duration": 3,
        "start_time": "2023-03-26T17:17:08.588Z"
      },
      {
        "duration": 150,
        "start_time": "2023-03-26T17:17:57.916Z"
      },
      {
        "duration": 299,
        "start_time": "2023-03-26T17:18:01.989Z"
      },
      {
        "duration": 358,
        "start_time": "2023-03-26T17:18:08.387Z"
      },
      {
        "duration": 362,
        "start_time": "2023-03-26T17:19:14.860Z"
      },
      {
        "duration": 438,
        "start_time": "2023-03-26T17:19:31.402Z"
      },
      {
        "duration": 5,
        "start_time": "2023-03-26T17:19:41.705Z"
      },
      {
        "duration": 372,
        "start_time": "2023-03-26T17:20:08.464Z"
      },
      {
        "duration": 393,
        "start_time": "2023-03-26T17:20:15.322Z"
      },
      {
        "duration": 439,
        "start_time": "2023-03-26T17:20:43.897Z"
      },
      {
        "duration": 224,
        "start_time": "2023-03-26T17:55:54.974Z"
      },
      {
        "duration": 242,
        "start_time": "2023-03-26T17:56:16.684Z"
      },
      {
        "duration": 180,
        "start_time": "2023-03-26T17:56:23.127Z"
      },
      {
        "duration": 220,
        "start_time": "2023-03-26T17:56:33.287Z"
      },
      {
        "duration": 367,
        "start_time": "2023-03-26T17:56:58.300Z"
      },
      {
        "duration": 269,
        "start_time": "2023-03-26T17:59:29.983Z"
      },
      {
        "duration": 255,
        "start_time": "2023-03-26T18:02:12.704Z"
      },
      {
        "duration": 202,
        "start_time": "2023-03-26T18:02:16.000Z"
      },
      {
        "duration": 49,
        "start_time": "2023-03-26T18:03:36.282Z"
      },
      {
        "duration": 238,
        "start_time": "2023-03-26T18:03:45.427Z"
      },
      {
        "duration": 286,
        "start_time": "2023-03-26T18:05:16.074Z"
      },
      {
        "duration": 249,
        "start_time": "2023-03-26T18:09:19.156Z"
      },
      {
        "duration": 252,
        "start_time": "2023-03-26T18:09:28.363Z"
      },
      {
        "duration": 271,
        "start_time": "2023-03-26T18:09:47.225Z"
      },
      {
        "duration": 247,
        "start_time": "2023-03-26T18:10:24.063Z"
      },
      {
        "duration": 239,
        "start_time": "2023-03-26T18:12:20.982Z"
      },
      {
        "duration": 333,
        "start_time": "2023-03-26T18:12:27.840Z"
      },
      {
        "duration": 357,
        "start_time": "2023-03-26T18:13:41.811Z"
      },
      {
        "duration": 394,
        "start_time": "2023-03-26T18:13:58.978Z"
      },
      {
        "duration": 417,
        "start_time": "2023-03-26T18:14:26.021Z"
      },
      {
        "duration": 379,
        "start_time": "2023-03-26T18:14:39.168Z"
      },
      {
        "duration": 52,
        "start_time": "2023-03-26T18:14:51.676Z"
      },
      {
        "duration": 408,
        "start_time": "2023-03-26T18:14:53.303Z"
      },
      {
        "duration": 445,
        "start_time": "2023-03-26T18:15:07.266Z"
      },
      {
        "duration": 382,
        "start_time": "2023-03-26T18:15:22.036Z"
      },
      {
        "duration": 429,
        "start_time": "2023-03-26T18:15:36.682Z"
      },
      {
        "duration": 251,
        "start_time": "2023-03-26T18:16:08.604Z"
      },
      {
        "duration": 284,
        "start_time": "2023-03-26T18:17:06.582Z"
      },
      {
        "duration": 527,
        "start_time": "2023-03-26T18:17:14.988Z"
      },
      {
        "duration": 393,
        "start_time": "2023-03-26T18:18:37.803Z"
      },
      {
        "duration": 381,
        "start_time": "2023-03-26T18:18:54.584Z"
      },
      {
        "duration": 386,
        "start_time": "2023-03-26T18:19:04.725Z"
      },
      {
        "duration": 243,
        "start_time": "2023-03-26T18:20:10.889Z"
      },
      {
        "duration": 234,
        "start_time": "2023-03-26T18:20:20.110Z"
      },
      {
        "duration": 245,
        "start_time": "2023-03-26T18:20:47.627Z"
      },
      {
        "duration": 234,
        "start_time": "2023-03-26T18:20:50.269Z"
      },
      {
        "duration": 415,
        "start_time": "2023-03-26T18:21:01.738Z"
      },
      {
        "duration": 184,
        "start_time": "2023-03-26T18:22:18.377Z"
      },
      {
        "duration": 189,
        "start_time": "2023-03-26T18:22:34.026Z"
      },
      {
        "duration": 302,
        "start_time": "2023-03-26T18:22:39.351Z"
      },
      {
        "duration": 191,
        "start_time": "2023-03-26T18:23:13.606Z"
      },
      {
        "duration": 239,
        "start_time": "2023-03-26T18:23:18.193Z"
      },
      {
        "duration": 402,
        "start_time": "2023-03-26T18:23:28.214Z"
      },
      {
        "duration": 413,
        "start_time": "2023-03-26T18:23:41.151Z"
      },
      {
        "duration": 404,
        "start_time": "2023-03-26T18:24:15.493Z"
      },
      {
        "duration": 431,
        "start_time": "2023-03-26T18:24:25.943Z"
      },
      {
        "duration": 405,
        "start_time": "2023-03-26T18:24:31.185Z"
      },
      {
        "duration": 360,
        "start_time": "2023-03-26T18:24:43.438Z"
      },
      {
        "duration": 364,
        "start_time": "2023-03-26T18:24:50.103Z"
      },
      {
        "duration": 273,
        "start_time": "2023-03-26T18:26:16.569Z"
      },
      {
        "duration": 326,
        "start_time": "2023-03-26T18:26:24.593Z"
      },
      {
        "duration": 207,
        "start_time": "2023-03-26T18:26:27.477Z"
      },
      {
        "duration": 385,
        "start_time": "2023-03-26T18:30:08.718Z"
      },
      {
        "duration": 6,
        "start_time": "2023-03-26T18:30:36.736Z"
      },
      {
        "duration": 4,
        "start_time": "2023-03-26T18:31:07.014Z"
      },
      {
        "duration": 3,
        "start_time": "2023-03-26T18:47:15.121Z"
      },
      {
        "duration": 4,
        "start_time": "2023-03-26T18:47:15.976Z"
      },
      {
        "duration": 4,
        "start_time": "2023-03-26T18:47:39.478Z"
      },
      {
        "duration": 3,
        "start_time": "2023-03-26T18:47:46.672Z"
      },
      {
        "duration": 5,
        "start_time": "2023-03-26T18:47:47.101Z"
      },
      {
        "duration": 3,
        "start_time": "2023-03-26T18:48:23.529Z"
      },
      {
        "duration": 4,
        "start_time": "2023-03-26T18:48:23.726Z"
      },
      {
        "duration": 3,
        "start_time": "2023-03-26T18:51:03.084Z"
      },
      {
        "duration": 3,
        "start_time": "2023-03-26T18:51:03.818Z"
      },
      {
        "duration": 3,
        "start_time": "2023-03-26T18:51:09.912Z"
      },
      {
        "duration": 2,
        "start_time": "2023-03-26T18:51:12.901Z"
      },
      {
        "duration": 4,
        "start_time": "2023-03-26T18:51:24.873Z"
      },
      {
        "duration": 3,
        "start_time": "2023-03-26T18:51:25.991Z"
      },
      {
        "duration": 3,
        "start_time": "2023-03-26T18:52:44.305Z"
      },
      {
        "duration": 25983,
        "start_time": "2023-03-26T18:53:50.497Z"
      },
      {
        "duration": 352,
        "start_time": "2023-03-26T18:54:37.993Z"
      },
      {
        "duration": 3,
        "start_time": "2023-03-26T18:55:00.606Z"
      },
      {
        "duration": 3,
        "start_time": "2023-03-26T18:55:29.230Z"
      },
      {
        "duration": 3,
        "start_time": "2023-03-26T18:56:03.989Z"
      },
      {
        "duration": 60,
        "start_time": "2023-03-26T18:56:29.779Z"
      },
      {
        "duration": 46,
        "start_time": "2023-03-26T18:56:35.677Z"
      },
      {
        "duration": 55,
        "start_time": "2023-03-26T18:56:43.102Z"
      },
      {
        "duration": 89,
        "start_time": "2023-03-26T18:56:46.502Z"
      },
      {
        "duration": 16,
        "start_time": "2023-03-26T18:57:57.933Z"
      },
      {
        "duration": 4,
        "start_time": "2023-03-26T18:58:05.505Z"
      },
      {
        "duration": 3,
        "start_time": "2023-03-26T18:58:11.013Z"
      },
      {
        "duration": 4,
        "start_time": "2023-03-26T18:58:22.776Z"
      },
      {
        "duration": 4,
        "start_time": "2023-03-26T18:58:26.230Z"
      },
      {
        "duration": 4,
        "start_time": "2023-03-26T18:58:28.884Z"
      },
      {
        "duration": 10,
        "start_time": "2023-03-26T18:59:05.194Z"
      },
      {
        "duration": 9,
        "start_time": "2023-03-26T18:59:09.217Z"
      },
      {
        "duration": 4,
        "start_time": "2023-03-26T18:59:55.470Z"
      },
      {
        "duration": 4,
        "start_time": "2023-03-26T18:59:58.481Z"
      },
      {
        "duration": 4,
        "start_time": "2023-03-26T19:00:04.629Z"
      },
      {
        "duration": 5,
        "start_time": "2023-03-26T19:02:09.982Z"
      },
      {
        "duration": 4,
        "start_time": "2023-03-26T19:02:38.663Z"
      },
      {
        "duration": 64,
        "start_time": "2023-03-26T19:02:52.914Z"
      },
      {
        "duration": 72,
        "start_time": "2023-03-26T19:02:56.678Z"
      },
      {
        "duration": 43,
        "start_time": "2023-03-26T19:03:01.279Z"
      },
      {
        "duration": 4,
        "start_time": "2023-03-26T19:03:10.860Z"
      },
      {
        "duration": 4,
        "start_time": "2023-03-26T19:03:13.255Z"
      },
      {
        "duration": 3,
        "start_time": "2023-03-26T19:12:56.570Z"
      },
      {
        "duration": 3,
        "start_time": "2023-03-26T19:12:57.083Z"
      },
      {
        "duration": 3,
        "start_time": "2023-03-26T19:12:57.716Z"
      },
      {
        "duration": 3,
        "start_time": "2023-03-26T19:25:17.395Z"
      },
      {
        "duration": 30,
        "start_time": "2023-03-26T19:25:36.798Z"
      },
      {
        "duration": 23,
        "start_time": "2023-03-26T19:26:35.916Z"
      },
      {
        "duration": 23,
        "start_time": "2023-03-26T19:28:52.712Z"
      },
      {
        "duration": 21,
        "start_time": "2023-03-26T19:28:54.881Z"
      },
      {
        "duration": 4,
        "start_time": "2023-03-26T19:31:41.312Z"
      },
      {
        "duration": 56,
        "start_time": "2023-03-26T19:31:45.755Z"
      },
      {
        "duration": 87,
        "start_time": "2023-03-26T19:32:10.116Z"
      },
      {
        "duration": 77,
        "start_time": "2023-03-26T19:32:37.517Z"
      },
      {
        "duration": 61,
        "start_time": "2023-03-26T19:32:42.054Z"
      },
      {
        "duration": 74,
        "start_time": "2023-03-26T19:32:56.336Z"
      },
      {
        "duration": 4,
        "start_time": "2023-03-26T19:33:04.997Z"
      },
      {
        "duration": 12,
        "start_time": "2023-03-26T19:33:05.787Z"
      },
      {
        "duration": 21,
        "start_time": "2023-03-26T19:33:16.137Z"
      },
      {
        "duration": 4,
        "start_time": "2023-03-26T19:56:22.893Z"
      },
      {
        "duration": 5,
        "start_time": "2023-03-26T20:06:53.252Z"
      },
      {
        "duration": 4,
        "start_time": "2023-03-26T20:07:44.496Z"
      },
      {
        "duration": 16,
        "start_time": "2023-03-26T20:08:25.973Z"
      },
      {
        "duration": 4,
        "start_time": "2023-03-26T20:08:37.189Z"
      },
      {
        "duration": 1414,
        "start_time": "2023-03-26T20:08:37.585Z"
      },
      {
        "duration": 4,
        "start_time": "2023-03-26T20:09:53.671Z"
      },
      {
        "duration": 1313,
        "start_time": "2023-03-26T20:09:54.071Z"
      },
      {
        "duration": 4,
        "start_time": "2023-03-26T20:10:37.524Z"
      },
      {
        "duration": 4,
        "start_time": "2023-03-26T20:10:42.267Z"
      },
      {
        "duration": 1360,
        "start_time": "2023-03-26T20:10:42.704Z"
      },
      {
        "duration": 9,
        "start_time": "2023-03-26T20:12:23.076Z"
      },
      {
        "duration": 8,
        "start_time": "2023-03-26T20:12:29.071Z"
      },
      {
        "duration": 5,
        "start_time": "2023-03-26T20:12:36.271Z"
      },
      {
        "duration": 1351,
        "start_time": "2023-03-26T20:12:36.958Z"
      },
      {
        "duration": 4,
        "start_time": "2023-03-26T20:12:43.684Z"
      },
      {
        "duration": 1367,
        "start_time": "2023-03-26T20:12:44.184Z"
      },
      {
        "duration": 1351,
        "start_time": "2023-03-26T20:14:21.190Z"
      },
      {
        "duration": 1357,
        "start_time": "2023-03-26T20:14:32.868Z"
      },
      {
        "duration": 4,
        "start_time": "2023-03-26T20:15:20.775Z"
      },
      {
        "duration": 9,
        "start_time": "2023-03-26T20:15:21.396Z"
      },
      {
        "duration": 3,
        "start_time": "2023-03-26T20:15:25.168Z"
      },
      {
        "duration": 8,
        "start_time": "2023-03-26T20:15:25.634Z"
      },
      {
        "duration": 3,
        "start_time": "2023-03-26T20:15:27.172Z"
      },
      {
        "duration": 9,
        "start_time": "2023-03-26T20:15:27.668Z"
      },
      {
        "duration": 4,
        "start_time": "2023-03-26T20:15:39.472Z"
      },
      {
        "duration": 333,
        "start_time": "2023-03-26T20:15:40.230Z"
      },
      {
        "duration": 35,
        "start_time": "2023-03-26T20:15:40.652Z"
      },
      {
        "duration": 10,
        "start_time": "2023-03-26T20:15:41.193Z"
      },
      {
        "duration": 74,
        "start_time": "2023-03-26T20:15:41.626Z"
      },
      {
        "duration": 2052,
        "start_time": "2023-03-26T20:15:42.790Z"
      },
      {
        "duration": 144,
        "start_time": "2023-03-26T20:15:44.845Z"
      },
      {
        "duration": 113,
        "start_time": "2023-03-26T20:15:45.030Z"
      },
      {
        "duration": 6,
        "start_time": "2023-03-26T20:15:45.971Z"
      },
      {
        "duration": 9,
        "start_time": "2023-03-26T20:15:47.111Z"
      },
      {
        "duration": 3,
        "start_time": "2023-03-26T20:16:07.377Z"
      },
      {
        "duration": 3,
        "start_time": "2023-03-26T20:16:07.669Z"
      },
      {
        "duration": 4,
        "start_time": "2023-03-26T20:16:08.022Z"
      },
      {
        "duration": 4,
        "start_time": "2023-03-26T20:16:08.334Z"
      },
      {
        "duration": 8,
        "start_time": "2023-03-26T20:16:08.734Z"
      },
      {
        "duration": 4,
        "start_time": "2023-03-26T20:16:10.479Z"
      },
      {
        "duration": 1375,
        "start_time": "2023-03-26T20:16:13.050Z"
      },
      {
        "duration": 1436,
        "start_time": "2023-03-26T20:16:16.680Z"
      },
      {
        "duration": 1407,
        "start_time": "2023-03-26T20:16:23.376Z"
      },
      {
        "duration": 1357,
        "start_time": "2023-03-26T20:17:01.598Z"
      },
      {
        "duration": 4,
        "start_time": "2023-03-26T20:17:12.775Z"
      },
      {
        "duration": 1415,
        "start_time": "2023-03-26T20:17:13.631Z"
      },
      {
        "duration": 1366,
        "start_time": "2023-03-26T20:17:22.094Z"
      },
      {
        "duration": 4,
        "start_time": "2023-03-26T20:19:27.874Z"
      },
      {
        "duration": 1330,
        "start_time": "2023-03-26T20:19:30.061Z"
      },
      {
        "duration": 5,
        "start_time": "2023-03-26T20:19:56.531Z"
      },
      {
        "duration": 20,
        "start_time": "2023-03-26T20:19:58.378Z"
      },
      {
        "duration": 5,
        "start_time": "2023-03-26T20:21:12.966Z"
      },
      {
        "duration": 1351,
        "start_time": "2023-03-26T20:21:13.435Z"
      },
      {
        "duration": 0,
        "start_time": "2023-03-26T20:21:14.788Z"
      },
      {
        "duration": 1346,
        "start_time": "2023-03-26T20:21:17.640Z"
      },
      {
        "duration": 5,
        "start_time": "2023-03-26T20:22:41.232Z"
      },
      {
        "duration": 3,
        "start_time": "2023-03-26T20:22:42.811Z"
      },
      {
        "duration": 4,
        "start_time": "2023-03-26T20:22:43.572Z"
      },
      {
        "duration": 1184,
        "start_time": "2023-03-26T20:22:44.216Z"
      },
      {
        "duration": 5,
        "start_time": "2023-03-26T20:23:59.416Z"
      },
      {
        "duration": 1161,
        "start_time": "2023-03-26T20:24:00.088Z"
      },
      {
        "duration": 4,
        "start_time": "2023-03-26T20:24:04.408Z"
      },
      {
        "duration": 1154,
        "start_time": "2023-03-26T20:24:04.971Z"
      },
      {
        "duration": 4,
        "start_time": "2023-03-26T20:24:14.472Z"
      },
      {
        "duration": 1173,
        "start_time": "2023-03-26T20:24:14.904Z"
      },
      {
        "duration": 4,
        "start_time": "2023-03-26T20:24:18.870Z"
      },
      {
        "duration": 1159,
        "start_time": "2023-03-26T20:24:19.128Z"
      },
      {
        "duration": 8,
        "start_time": "2023-03-26T20:24:36.874Z"
      },
      {
        "duration": 1185,
        "start_time": "2023-03-26T20:24:37.957Z"
      },
      {
        "duration": 4,
        "start_time": "2023-03-26T20:25:37.275Z"
      },
      {
        "duration": 1155,
        "start_time": "2023-03-26T20:25:38.085Z"
      },
      {
        "duration": 5,
        "start_time": "2023-03-26T20:27:44.432Z"
      },
      {
        "duration": 9,
        "start_time": "2023-03-26T20:27:45.374Z"
      },
      {
        "duration": 1137,
        "start_time": "2023-03-26T20:27:50.821Z"
      },
      {
        "duration": 11,
        "start_time": "2023-03-26T20:31:15.377Z"
      },
      {
        "duration": 1363,
        "start_time": "2023-03-26T20:31:15.917Z"
      },
      {
        "duration": 11,
        "start_time": "2023-03-26T20:31:22.641Z"
      },
      {
        "duration": 4,
        "start_time": "2023-03-26T20:31:33.834Z"
      },
      {
        "duration": 1158,
        "start_time": "2023-03-26T20:31:35.337Z"
      },
      {
        "duration": 5,
        "start_time": "2023-03-26T20:32:31.393Z"
      },
      {
        "duration": 1185,
        "start_time": "2023-03-26T20:32:31.994Z"
      },
      {
        "duration": 4,
        "start_time": "2023-03-26T20:32:42.010Z"
      },
      {
        "duration": 1157,
        "start_time": "2023-03-26T20:32:42.409Z"
      },
      {
        "duration": 1151,
        "start_time": "2023-03-26T20:33:02.649Z"
      },
      {
        "duration": 10,
        "start_time": "2023-03-26T20:33:26.409Z"
      },
      {
        "duration": 1175,
        "start_time": "2023-03-26T20:33:26.749Z"
      },
      {
        "duration": 11,
        "start_time": "2023-03-26T20:34:41.541Z"
      },
      {
        "duration": 13,
        "start_time": "2023-03-26T20:34:47.222Z"
      },
      {
        "duration": 50,
        "start_time": "2023-03-26T20:35:02.392Z"
      },
      {
        "duration": 142,
        "start_time": "2023-03-26T20:35:07.737Z"
      },
      {
        "duration": 5,
        "start_time": "2023-03-26T20:35:15.405Z"
      },
      {
        "duration": 1152,
        "start_time": "2023-03-26T20:35:17.393Z"
      },
      {
        "duration": 4,
        "start_time": "2023-03-26T20:35:34.881Z"
      },
      {
        "duration": 1268,
        "start_time": "2023-03-26T20:35:35.415Z"
      },
      {
        "duration": 11,
        "start_time": "2023-03-26T20:36:12.185Z"
      },
      {
        "duration": 1163,
        "start_time": "2023-03-26T20:36:12.545Z"
      },
      {
        "duration": 5,
        "start_time": "2023-03-26T20:36:23.493Z"
      },
      {
        "duration": 1176,
        "start_time": "2023-03-26T20:36:24.041Z"
      },
      {
        "duration": 6,
        "start_time": "2023-03-26T20:36:36.480Z"
      },
      {
        "duration": 1198,
        "start_time": "2023-03-26T20:36:37.110Z"
      },
      {
        "duration": 5,
        "start_time": "2023-03-26T20:36:51.542Z"
      },
      {
        "duration": 1206,
        "start_time": "2023-03-26T20:36:52.038Z"
      },
      {
        "duration": 49,
        "start_time": "2023-03-26T20:37:24.321Z"
      },
      {
        "duration": 1162,
        "start_time": "2023-03-26T20:37:24.772Z"
      },
      {
        "duration": 5,
        "start_time": "2023-03-26T20:37:28.881Z"
      },
      {
        "duration": 1142,
        "start_time": "2023-03-26T20:37:29.737Z"
      },
      {
        "duration": 49,
        "start_time": "2023-03-26T20:38:10.790Z"
      },
      {
        "duration": 49,
        "start_time": "2023-03-26T20:38:14.314Z"
      },
      {
        "duration": 53,
        "start_time": "2023-03-26T20:38:27.080Z"
      },
      {
        "duration": 5,
        "start_time": "2023-03-26T20:38:36.905Z"
      },
      {
        "duration": 1204,
        "start_time": "2023-03-26T20:38:37.777Z"
      },
      {
        "duration": 6,
        "start_time": "2023-03-26T20:38:48.514Z"
      },
      {
        "duration": 1162,
        "start_time": "2023-03-26T20:38:49.001Z"
      },
      {
        "duration": 41,
        "start_time": "2023-03-26T20:38:54.286Z"
      },
      {
        "duration": 1149,
        "start_time": "2023-03-26T20:38:54.876Z"
      },
      {
        "duration": 4,
        "start_time": "2023-03-26T20:38:57.914Z"
      },
      {
        "duration": 1146,
        "start_time": "2023-03-26T20:38:58.577Z"
      },
      {
        "duration": 5,
        "start_time": "2023-03-26T20:39:17.982Z"
      },
      {
        "duration": 1136,
        "start_time": "2023-03-26T20:39:18.541Z"
      },
      {
        "duration": 4,
        "start_time": "2023-03-26T20:40:11.987Z"
      },
      {
        "duration": 1155,
        "start_time": "2023-03-26T20:40:12.602Z"
      },
      {
        "duration": 4,
        "start_time": "2023-03-26T20:40:32.202Z"
      },
      {
        "duration": 1149,
        "start_time": "2023-03-26T20:40:32.680Z"
      },
      {
        "duration": 5,
        "start_time": "2023-03-26T20:40:38.201Z"
      },
      {
        "duration": 1180,
        "start_time": "2023-03-26T20:40:38.794Z"
      },
      {
        "duration": 5,
        "start_time": "2023-03-26T20:41:08.126Z"
      },
      {
        "duration": 1143,
        "start_time": "2023-03-26T20:41:09.823Z"
      },
      {
        "duration": 5,
        "start_time": "2023-03-26T20:41:13.683Z"
      },
      {
        "duration": 1152,
        "start_time": "2023-03-26T20:41:14.321Z"
      },
      {
        "duration": 8,
        "start_time": "2023-03-26T20:41:17.738Z"
      },
      {
        "duration": 1143,
        "start_time": "2023-03-26T20:41:18.486Z"
      },
      {
        "duration": 5,
        "start_time": "2023-03-26T20:41:23.814Z"
      },
      {
        "duration": 1268,
        "start_time": "2023-03-26T20:41:24.614Z"
      },
      {
        "duration": 4,
        "start_time": "2023-03-26T20:41:33.530Z"
      },
      {
        "duration": 1171,
        "start_time": "2023-03-26T20:41:34.189Z"
      },
      {
        "duration": 5,
        "start_time": "2023-03-26T20:41:42.750Z"
      },
      {
        "duration": 1132,
        "start_time": "2023-03-26T20:41:43.382Z"
      },
      {
        "duration": 3503,
        "start_time": "2023-03-26T20:42:07.650Z"
      },
      {
        "duration": 3466,
        "start_time": "2023-03-26T20:42:57.193Z"
      },
      {
        "duration": 3552,
        "start_time": "2023-03-26T20:43:20.110Z"
      },
      {
        "duration": 3,
        "start_time": "2023-03-26T20:45:35.186Z"
      },
      {
        "duration": 3,
        "start_time": "2023-03-26T20:45:35.876Z"
      },
      {
        "duration": 3,
        "start_time": "2023-03-26T20:45:36.525Z"
      },
      {
        "duration": 4,
        "start_time": "2023-03-26T20:45:48.081Z"
      },
      {
        "duration": 3567,
        "start_time": "2023-03-26T20:46:23.821Z"
      },
      {
        "duration": 4,
        "start_time": "2023-03-26T20:53:08.502Z"
      },
      {
        "duration": 48,
        "start_time": "2023-03-26T21:11:32.565Z"
      },
      {
        "duration": 14,
        "start_time": "2023-03-26T21:12:09.191Z"
      },
      {
        "duration": 43,
        "start_time": "2023-03-26T21:13:28.479Z"
      },
      {
        "duration": 9,
        "start_time": "2023-03-26T21:13:31.284Z"
      },
      {
        "duration": 6,
        "start_time": "2023-03-26T21:14:15.882Z"
      },
      {
        "duration": 5,
        "start_time": "2023-03-26T21:14:22.995Z"
      },
      {
        "duration": 72,
        "start_time": "2023-03-26T21:21:27.710Z"
      },
      {
        "duration": 74,
        "start_time": "2023-03-26T21:21:32.256Z"
      },
      {
        "duration": 52,
        "start_time": "2023-03-26T21:24:10.311Z"
      },
      {
        "duration": 60,
        "start_time": "2023-03-26T21:24:15.867Z"
      },
      {
        "duration": 60,
        "start_time": "2023-03-26T21:24:26.491Z"
      },
      {
        "duration": 65,
        "start_time": "2023-03-26T21:24:29.435Z"
      },
      {
        "duration": 51,
        "start_time": "2023-03-26T21:24:57.502Z"
      },
      {
        "duration": 63,
        "start_time": "2023-03-26T21:26:52.854Z"
      },
      {
        "duration": 60,
        "start_time": "2023-03-26T21:26:57.523Z"
      },
      {
        "duration": 47,
        "start_time": "2023-03-26T21:29:29.133Z"
      },
      {
        "duration": 3,
        "start_time": "2023-03-26T21:33:55.327Z"
      },
      {
        "duration": 4,
        "start_time": "2023-03-26T21:34:33.999Z"
      },
      {
        "duration": 4,
        "start_time": "2023-03-26T21:34:42.810Z"
      },
      {
        "duration": 4,
        "start_time": "2023-03-26T21:34:59.674Z"
      },
      {
        "duration": 4,
        "start_time": "2023-03-26T21:35:03.339Z"
      },
      {
        "duration": 3,
        "start_time": "2023-03-26T21:35:38.155Z"
      },
      {
        "duration": 4,
        "start_time": "2023-03-26T21:36:21.138Z"
      },
      {
        "duration": 50,
        "start_time": "2023-03-26T21:39:31.003Z"
      },
      {
        "duration": 48,
        "start_time": "2023-03-26T21:41:45.207Z"
      },
      {
        "duration": 3430,
        "start_time": "2023-03-27T14:35:34.559Z"
      },
      {
        "duration": 1705,
        "start_time": "2023-03-27T14:35:37.991Z"
      },
      {
        "duration": 38,
        "start_time": "2023-03-27T14:35:39.697Z"
      },
      {
        "duration": 20,
        "start_time": "2023-03-27T14:35:39.739Z"
      },
      {
        "duration": 56,
        "start_time": "2023-03-27T14:35:39.760Z"
      },
      {
        "duration": 2178,
        "start_time": "2023-03-27T14:35:39.818Z"
      },
      {
        "duration": 158,
        "start_time": "2023-03-27T14:35:41.997Z"
      },
      {
        "duration": 105,
        "start_time": "2023-03-27T14:35:42.156Z"
      },
      {
        "duration": 2,
        "start_time": "2023-03-27T14:35:42.263Z"
      },
      {
        "duration": 22,
        "start_time": "2023-03-27T14:35:42.269Z"
      },
      {
        "duration": 15,
        "start_time": "2023-03-27T14:35:42.292Z"
      },
      {
        "duration": 38,
        "start_time": "2023-03-27T14:35:42.309Z"
      },
      {
        "duration": 86,
        "start_time": "2023-03-27T14:35:42.354Z"
      },
      {
        "duration": 2418,
        "start_time": "2023-03-27T14:35:42.441Z"
      },
      {
        "duration": 320438,
        "start_time": "2023-03-27T14:35:44.861Z"
      },
      {
        "duration": 77,
        "start_time": "2023-03-27T14:41:05.301Z"
      },
      {
        "duration": 11,
        "start_time": "2023-03-27T14:41:05.380Z"
      },
      {
        "duration": 63,
        "start_time": "2023-03-27T14:41:05.392Z"
      },
      {
        "duration": 2322,
        "start_time": "2023-03-27T14:41:05.538Z"
      },
      {
        "duration": 293760,
        "start_time": "2023-03-27T14:41:07.861Z"
      },
      {
        "duration": 52,
        "start_time": "2023-03-27T14:46:01.623Z"
      },
      {
        "duration": 11,
        "start_time": "2023-03-27T14:46:01.677Z"
      },
      {
        "duration": 57,
        "start_time": "2023-03-27T14:46:01.690Z"
      },
      {
        "duration": 2374,
        "start_time": "2023-03-27T14:46:01.750Z"
      },
      {
        "duration": 331605,
        "start_time": "2023-03-27T14:46:04.126Z"
      },
      {
        "duration": 59,
        "start_time": "2023-03-27T14:51:35.735Z"
      },
      {
        "duration": 381,
        "start_time": "2023-03-27T14:51:35.795Z"
      },
      {
        "duration": 3,
        "start_time": "2023-03-27T14:51:36.179Z"
      },
      {
        "duration": 9,
        "start_time": "2023-03-27T14:51:36.183Z"
      },
      {
        "duration": 13,
        "start_time": "2023-03-27T14:51:36.193Z"
      },
      {
        "duration": 6,
        "start_time": "2023-03-27T14:51:36.207Z"
      },
      {
        "duration": 10,
        "start_time": "2023-03-27T14:51:36.214Z"
      },
      {
        "duration": 4141,
        "start_time": "2023-03-27T14:51:36.225Z"
      },
      {
        "duration": 51,
        "start_time": "2023-03-27T16:51:49.790Z"
      },
      {
        "duration": 1599,
        "start_time": "2023-03-27T16:51:56.837Z"
      },
      {
        "duration": 1135,
        "start_time": "2023-03-27T16:51:58.438Z"
      },
      {
        "duration": 36,
        "start_time": "2023-03-27T16:51:59.575Z"
      },
      {
        "duration": 13,
        "start_time": "2023-03-27T16:51:59.613Z"
      },
      {
        "duration": 78,
        "start_time": "2023-03-27T16:52:01.418Z"
      },
      {
        "duration": 132,
        "start_time": "2023-03-27T16:52:10.313Z"
      },
      {
        "duration": 44,
        "start_time": "2023-03-27T16:52:34.388Z"
      },
      {
        "duration": 59,
        "start_time": "2023-03-27T16:54:54.009Z"
      },
      {
        "duration": 381,
        "start_time": "2023-03-27T16:55:37.596Z"
      },
      {
        "duration": 669,
        "start_time": "2023-03-27T16:55:56.418Z"
      },
      {
        "duration": 280,
        "start_time": "2023-03-27T16:56:01.010Z"
      },
      {
        "duration": 209,
        "start_time": "2023-03-27T16:56:13.781Z"
      },
      {
        "duration": 406,
        "start_time": "2023-03-27T16:56:21.357Z"
      },
      {
        "duration": 281,
        "start_time": "2023-03-27T16:56:26.401Z"
      },
      {
        "duration": 237,
        "start_time": "2023-03-27T16:56:34.448Z"
      },
      {
        "duration": 259,
        "start_time": "2023-03-27T16:56:37.785Z"
      },
      {
        "duration": 223,
        "start_time": "2023-03-27T16:56:39.760Z"
      },
      {
        "duration": 260,
        "start_time": "2023-03-27T16:57:53.487Z"
      },
      {
        "duration": 268,
        "start_time": "2023-03-27T16:58:06.815Z"
      },
      {
        "duration": 265,
        "start_time": "2023-03-27T16:59:01.093Z"
      },
      {
        "duration": 46,
        "start_time": "2023-03-27T17:00:05.615Z"
      },
      {
        "duration": 59,
        "start_time": "2023-03-27T17:00:13.096Z"
      },
      {
        "duration": 50,
        "start_time": "2023-03-27T17:00:17.510Z"
      },
      {
        "duration": 41,
        "start_time": "2023-03-27T17:00:20.992Z"
      },
      {
        "duration": 47,
        "start_time": "2023-03-27T17:00:39.507Z"
      },
      {
        "duration": 69,
        "start_time": "2023-03-27T17:03:00.487Z"
      },
      {
        "duration": 48,
        "start_time": "2023-03-27T17:03:04.047Z"
      },
      {
        "duration": 440,
        "start_time": "2023-03-27T17:03:09.246Z"
      },
      {
        "duration": 669,
        "start_time": "2023-03-27T17:03:30.492Z"
      },
      {
        "duration": 533,
        "start_time": "2023-03-27T17:03:41.228Z"
      },
      {
        "duration": 465,
        "start_time": "2023-03-27T17:03:53.388Z"
      },
      {
        "duration": 647,
        "start_time": "2023-03-27T17:03:56.589Z"
      },
      {
        "duration": 641,
        "start_time": "2023-03-27T17:04:16.879Z"
      },
      {
        "duration": 697,
        "start_time": "2023-03-27T17:04:26.268Z"
      },
      {
        "duration": 44,
        "start_time": "2023-03-27T17:05:21.321Z"
      },
      {
        "duration": 326,
        "start_time": "2023-03-27T17:06:07.341Z"
      },
      {
        "duration": 460,
        "start_time": "2023-03-27T17:06:18.509Z"
      },
      {
        "duration": 689,
        "start_time": "2023-03-27T17:06:27.200Z"
      },
      {
        "duration": 846,
        "start_time": "2023-03-27T17:06:34.284Z"
      },
      {
        "duration": 738,
        "start_time": "2023-03-27T17:06:55.409Z"
      },
      {
        "duration": 3,
        "start_time": "2023-03-27T17:09:23.507Z"
      },
      {
        "duration": 17,
        "start_time": "2023-03-27T17:09:23.991Z"
      },
      {
        "duration": 10,
        "start_time": "2023-03-27T17:11:08.391Z"
      },
      {
        "duration": 13,
        "start_time": "2023-03-27T17:11:11.933Z"
      },
      {
        "duration": 14,
        "start_time": "2023-03-27T17:11:12.956Z"
      },
      {
        "duration": 7,
        "start_time": "2023-03-27T17:11:15.389Z"
      },
      {
        "duration": 9,
        "start_time": "2023-03-27T17:11:38.688Z"
      },
      {
        "duration": 10,
        "start_time": "2023-03-27T17:13:30.854Z"
      },
      {
        "duration": 16,
        "start_time": "2023-03-27T17:13:31.230Z"
      },
      {
        "duration": 12,
        "start_time": "2023-03-27T17:13:32.005Z"
      },
      {
        "duration": 12,
        "start_time": "2023-03-27T17:13:59.588Z"
      },
      {
        "duration": 28,
        "start_time": "2023-03-27T17:14:03.914Z"
      },
      {
        "duration": 9,
        "start_time": "2023-03-27T17:14:17.746Z"
      },
      {
        "duration": 9,
        "start_time": "2023-03-27T17:14:36.038Z"
      },
      {
        "duration": 225,
        "start_time": "2023-03-27T17:15:34.273Z"
      },
      {
        "duration": 17,
        "start_time": "2023-03-27T17:15:37.206Z"
      },
      {
        "duration": 355,
        "start_time": "2023-03-27T17:15:39.585Z"
      },
      {
        "duration": 346,
        "start_time": "2023-03-27T17:15:47.247Z"
      },
      {
        "duration": 3,
        "start_time": "2023-03-27T17:18:34.135Z"
      },
      {
        "duration": 10,
        "start_time": "2023-03-27T17:20:20.829Z"
      },
      {
        "duration": 9,
        "start_time": "2023-03-27T17:20:29.383Z"
      },
      {
        "duration": 3,
        "start_time": "2023-03-27T17:20:35.808Z"
      },
      {
        "duration": 3,
        "start_time": "2023-03-27T17:20:41.115Z"
      },
      {
        "duration": 3,
        "start_time": "2023-03-27T17:20:47.514Z"
      },
      {
        "duration": 4,
        "start_time": "2023-03-27T17:23:04.402Z"
      },
      {
        "duration": 9,
        "start_time": "2023-03-27T17:23:09.784Z"
      },
      {
        "duration": 4,
        "start_time": "2023-03-27T17:23:20.040Z"
      },
      {
        "duration": 4,
        "start_time": "2023-03-27T17:24:24.701Z"
      },
      {
        "duration": 4,
        "start_time": "2023-03-27T17:24:29.233Z"
      },
      {
        "duration": 4,
        "start_time": "2023-03-27T17:24:40.009Z"
      },
      {
        "duration": 4,
        "start_time": "2023-03-27T17:24:48.820Z"
      },
      {
        "duration": 3,
        "start_time": "2023-03-27T17:27:04.481Z"
      },
      {
        "duration": 5,
        "start_time": "2023-03-27T17:27:27.709Z"
      },
      {
        "duration": 20,
        "start_time": "2023-03-27T17:28:11.485Z"
      },
      {
        "duration": 5,
        "start_time": "2023-03-27T17:28:40.385Z"
      },
      {
        "duration": 3,
        "start_time": "2023-03-27T17:29:14.312Z"
      },
      {
        "duration": 7,
        "start_time": "2023-03-27T17:29:16.241Z"
      },
      {
        "duration": 3486,
        "start_time": "2023-03-27T17:29:18.216Z"
      },
      {
        "duration": 5,
        "start_time": "2023-03-27T17:33:50.696Z"
      },
      {
        "duration": 343,
        "start_time": "2023-03-27T17:33:50.702Z"
      },
      {
        "duration": 38,
        "start_time": "2023-03-27T17:33:51.047Z"
      },
      {
        "duration": 10,
        "start_time": "2023-03-27T17:33:51.087Z"
      },
      {
        "duration": 144,
        "start_time": "2023-03-27T17:33:51.099Z"
      },
      {
        "duration": 40,
        "start_time": "2023-03-27T17:33:51.244Z"
      },
      {
        "duration": 2203,
        "start_time": "2023-03-27T17:33:51.286Z"
      },
      {
        "duration": 143,
        "start_time": "2023-03-27T17:33:53.492Z"
      },
      {
        "duration": 118,
        "start_time": "2023-03-27T17:33:53.637Z"
      },
      {
        "duration": 679,
        "start_time": "2023-03-27T17:33:53.756Z"
      },
      {
        "duration": 936,
        "start_time": "2023-03-27T17:33:54.437Z"
      },
      {
        "duration": 8,
        "start_time": "2023-03-27T17:33:55.375Z"
      },
      {
        "duration": 14,
        "start_time": "2023-03-27T17:33:55.387Z"
      },
      {
        "duration": 12,
        "start_time": "2023-03-27T17:33:55.403Z"
      },
      {
        "duration": 129,
        "start_time": "2023-03-27T17:33:55.416Z"
      },
      {
        "duration": 94,
        "start_time": "2023-03-27T17:33:55.547Z"
      },
      {
        "duration": 14,
        "start_time": "2023-03-27T17:33:55.644Z"
      },
      {
        "duration": 99,
        "start_time": "2023-03-27T17:33:55.741Z"
      },
      {
        "duration": 17,
        "start_time": "2023-03-27T17:33:55.844Z"
      },
      {
        "duration": 85,
        "start_time": "2023-03-27T17:33:55.864Z"
      },
      {
        "duration": 105,
        "start_time": "2023-03-27T17:33:55.952Z"
      },
      {
        "duration": 93,
        "start_time": "2023-03-27T17:33:56.065Z"
      },
      {
        "duration": 92,
        "start_time": "2023-03-27T17:33:56.161Z"
      },
      {
        "duration": 533,
        "start_time": "2023-03-27T17:33:56.257Z"
      },
      {
        "duration": 4,
        "start_time": "2023-03-27T17:33:56.792Z"
      },
      {
        "duration": 8,
        "start_time": "2023-03-27T17:33:56.797Z"
      },
      {
        "duration": 7,
        "start_time": "2023-03-27T17:33:56.806Z"
      },
      {
        "duration": 5,
        "start_time": "2023-03-27T17:33:56.814Z"
      },
      {
        "duration": 29,
        "start_time": "2023-03-27T17:33:56.820Z"
      },
      {
        "duration": 3734,
        "start_time": "2023-03-27T17:33:56.851Z"
      },
      {
        "duration": 2291,
        "start_time": "2023-03-27T18:13:53.788Z"
      },
      {
        "duration": 434,
        "start_time": "2023-03-27T18:13:56.080Z"
      },
      {
        "duration": 58,
        "start_time": "2023-03-27T18:13:56.516Z"
      },
      {
        "duration": 15,
        "start_time": "2023-03-27T18:13:56.576Z"
      },
      {
        "duration": 143,
        "start_time": "2023-03-27T18:13:56.592Z"
      },
      {
        "duration": 56,
        "start_time": "2023-03-27T18:13:56.737Z"
      },
      {
        "duration": 2672,
        "start_time": "2023-03-27T18:13:56.796Z"
      },
      {
        "duration": 155,
        "start_time": "2023-03-27T18:13:59.470Z"
      },
      {
        "duration": 141,
        "start_time": "2023-03-27T18:13:59.627Z"
      },
      {
        "duration": 803,
        "start_time": "2023-03-27T18:13:59.771Z"
      },
      {
        "duration": 984,
        "start_time": "2023-03-27T18:14:00.576Z"
      },
      {
        "duration": 4,
        "start_time": "2023-03-27T18:14:01.566Z"
      },
      {
        "duration": 87,
        "start_time": "2023-03-27T18:14:01.571Z"
      },
      {
        "duration": 41,
        "start_time": "2023-03-27T18:14:01.660Z"
      },
      {
        "duration": 98,
        "start_time": "2023-03-27T18:14:01.703Z"
      },
      {
        "duration": 57,
        "start_time": "2023-03-27T18:14:01.809Z"
      },
      {
        "duration": 221,
        "start_time": "2023-03-27T18:14:01.870Z"
      },
      {
        "duration": 188,
        "start_time": "2023-03-27T18:14:02.097Z"
      },
      {
        "duration": 53,
        "start_time": "2023-03-27T18:14:02.287Z"
      },
      {
        "duration": 98,
        "start_time": "2023-03-27T18:14:02.342Z"
      },
      {
        "duration": 144,
        "start_time": "2023-03-27T18:14:02.446Z"
      },
      {
        "duration": 18,
        "start_time": "2023-03-27T18:14:02.592Z"
      },
      {
        "duration": 41,
        "start_time": "2023-03-27T18:14:02.612Z"
      },
      {
        "duration": 530,
        "start_time": "2023-03-27T18:14:02.663Z"
      },
      {
        "duration": 4,
        "start_time": "2023-03-27T18:14:03.195Z"
      },
      {
        "duration": 14,
        "start_time": "2023-03-27T18:14:03.201Z"
      },
      {
        "duration": 17,
        "start_time": "2023-03-27T18:14:03.216Z"
      },
      {
        "duration": 39,
        "start_time": "2023-03-27T18:14:03.237Z"
      },
      {
        "duration": 7,
        "start_time": "2023-03-27T18:14:03.278Z"
      },
      {
        "duration": 4790,
        "start_time": "2023-03-27T18:14:03.287Z"
      }
    ],
    "kernelspec": {
      "display_name": "Python 3 (ipykernel)",
      "language": "python",
      "name": "python3"
    },
    "language_info": {
      "codemirror_mode": {
        "name": "ipython",
        "version": 3
      },
      "file_extension": ".py",
      "mimetype": "text/x-python",
      "name": "python",
      "nbconvert_exporter": "python",
      "pygments_lexer": "ipython3",
      "version": "3.9.5"
    },
    "toc": {
      "base_numbering": 1,
      "nav_menu": {},
      "number_sections": true,
      "sideBar": true,
      "skip_h1_title": true,
      "title_cell": "Оглавление",
      "title_sidebar": "Оглавление",
      "toc_cell": true,
      "toc_position": {},
      "toc_section_display": true,
      "toc_window_display": true
    },
    "colab": {
      "provenance": [],
      "include_colab_link": true
    }
  },
  "nbformat": 4,
  "nbformat_minor": 0
}